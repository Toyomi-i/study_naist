{
 "metadata": {
  "language_info": {
   "codemirror_mode": {
    "name": "ipython",
    "version": 3
   },
   "file_extension": ".py",
   "mimetype": "text/x-python",
   "name": "python",
   "nbconvert_exporter": "python",
   "pygments_lexer": "ipython3",
   "version": "3.8.5"
  },
  "orig_nbformat": 4,
  "kernelspec": {
   "name": "python3",
   "display_name": "Python 3.8.5 64-bit ('3.8.5': pyenv)"
  },
  "interpreter": {
   "hash": "5518ef21977f2f7cfbc2af1de56ff3c1849cd3f20e332759f644f321a7cde6de"
  }
 },
 "nbformat": 4,
 "nbformat_minor": 2,
 "cells": [
  {
   "source": [
    "## Calculate effect size\n",
    "\n",
    "参考: https://mizumot.com/files/EffectSize_KELES31.pdf\n",
    "\n",
    "重回帰モデルの偏相関係数に対する個別の検定(t検定) <br>\n",
    "t検定に対する効果量$r$\n",
    "$$ r = \\sqrt{\\frac{t^2}{t^2 + df}} $$\n",
    "\n",
    "$t$: t値 <br>\n",
    "$df$\b: 自由度(サンプル数 - 推定するパラメータ数) "
   ],
   "cell_type": "markdown",
   "metadata": {}
  },
  {
   "source": [
    "import pandas as pd\n",
    "import openpyxl\n",
    "import glob\n",
    "import os"
   ],
   "cell_type": "code",
   "metadata": {},
   "execution_count": 2,
   "outputs": []
  },
  {
   "source": [
    "### Input Data\n",
    "\n",
    "ファイル名の意味 <br>\n",
    "\\[atlas\\]\\_[model\\]_\\[covariates\\].xlsx\n",
    "\n",
    "例　BN_MR_Ag_Mr_Sb_Ti_Ge.xlsx <br>\n",
    "- BN: BrainNetome\n",
    "- MR: Multiple Regression\n",
    "- Ag: age, Mr: MRI_performance, Sb: subCategory_performance, Ti: TIV, Ge: Gender"
   ],
   "cell_type": "markdown",
   "metadata": {}
  },
  {
   "cell_type": "code",
   "execution_count": 36,
   "metadata": {},
   "outputs": [
    {
     "output_type": "execute_result",
     "data": {
      "text/plain": [
       "['../Results/BN_MR_A_M_T_G/BN_MR_Ag_Mr_Ti_Ge.xlsx',\n",
       " '../Results/BN_MR_A_M_S_T_G/BN_MR_Ag_Mr_Sb_Ti_Ge.xlsx',\n",
       " '../Results/BN_MR_A_S_T_G/BN_MR_Ag_Sb_Ti_Ge.xlsx']"
      ]
     },
     "metadata": {},
     "execution_count": 36
    }
   ],
   "source": [
    "# optional\n",
    "file_idx = 0\n",
    "\n",
    "file_names = glob.glob('../Results/*/*.xlsx', recursive=True)\n",
    "file_names"
   ]
  },
  {
   "cell_type": "code",
   "execution_count": 37,
   "metadata": {},
   "outputs": [
    {
     "output_type": "execute_result",
     "data": {
      "text/plain": [
       "      P-value    T-value   Ze-value BN_Atlas_246_2mm\n",
       "0    0.003709    2.91389    2.67744            OI110\n",
       "1    0.005095    2.77943    2.56934            OI090\n",
       "2    0.006181    2.69633    2.50162            OI002\n",
       "3    0.008456    2.55953    2.38861            OI125\n",
       "4    0.009320    2.51646    2.35265            OI012\n",
       "5    0.009546    2.50584    2.34375            OI079\n",
       "6    0.013041    2.36531    2.22498            OI133\n",
       "7    0.015001    2.30109    2.17005            OI037\n",
       "8    0.017427    2.23146    2.11006            OI173\n",
       "9    0.017460    2.23056    2.10928            OI152\n",
       "10   0.022046    2.12016    2.01321            OI126\n",
       "11   0.027850    2.00681    1.91338            OI094\n",
       "12   0.031156    1.95130    1.86407            OI171\n",
       "13   0.031997    1.93801    1.85221            OI228\n",
       "14   0.033605    1.91344    1.83027            OI167\n",
       "15   0.038864    1.83962    1.76402            OI083\n",
       "16   0.039446    1.83200    1.75715            OI073\n",
       "17   0.040871    1.81372    1.74066            OI172\n",
       "18   0.041126    1.81051    1.73776            OI132\n",
       "19   0.041724    1.80305    1.73102            OI038\n",
       "20   0.042808    1.78974    1.71899            OI104\n",
       "21   0.048941    1.71950    1.65521            OI168"
      ],
      "text/html": "<div>\n<style scoped>\n    .dataframe tbody tr th:only-of-type {\n        vertical-align: middle;\n    }\n\n    .dataframe tbody tr th {\n        vertical-align: top;\n    }\n\n    .dataframe thead th {\n        text-align: right;\n    }\n</style>\n<table border=\"1\" class=\"dataframe\">\n  <thead>\n    <tr style=\"text-align: right;\">\n      <th></th>\n      <th>P-value</th>\n      <th>T-value</th>\n      <th>Ze-value</th>\n      <th>BN_Atlas_246_2mm</th>\n    </tr>\n  </thead>\n  <tbody>\n    <tr>\n      <th>0</th>\n      <td>0.003709</td>\n      <td>2.91389</td>\n      <td>2.67744</td>\n      <td>OI110</td>\n    </tr>\n    <tr>\n      <th>1</th>\n      <td>0.005095</td>\n      <td>2.77943</td>\n      <td>2.56934</td>\n      <td>OI090</td>\n    </tr>\n    <tr>\n      <th>2</th>\n      <td>0.006181</td>\n      <td>2.69633</td>\n      <td>2.50162</td>\n      <td>OI002</td>\n    </tr>\n    <tr>\n      <th>3</th>\n      <td>0.008456</td>\n      <td>2.55953</td>\n      <td>2.38861</td>\n      <td>OI125</td>\n    </tr>\n    <tr>\n      <th>4</th>\n      <td>0.009320</td>\n      <td>2.51646</td>\n      <td>2.35265</td>\n      <td>OI012</td>\n    </tr>\n    <tr>\n      <th>5</th>\n      <td>0.009546</td>\n      <td>2.50584</td>\n      <td>2.34375</td>\n      <td>OI079</td>\n    </tr>\n    <tr>\n      <th>6</th>\n      <td>0.013041</td>\n      <td>2.36531</td>\n      <td>2.22498</td>\n      <td>OI133</td>\n    </tr>\n    <tr>\n      <th>7</th>\n      <td>0.015001</td>\n      <td>2.30109</td>\n      <td>2.17005</td>\n      <td>OI037</td>\n    </tr>\n    <tr>\n      <th>8</th>\n      <td>0.017427</td>\n      <td>2.23146</td>\n      <td>2.11006</td>\n      <td>OI173</td>\n    </tr>\n    <tr>\n      <th>9</th>\n      <td>0.017460</td>\n      <td>2.23056</td>\n      <td>2.10928</td>\n      <td>OI152</td>\n    </tr>\n    <tr>\n      <th>10</th>\n      <td>0.022046</td>\n      <td>2.12016</td>\n      <td>2.01321</td>\n      <td>OI126</td>\n    </tr>\n    <tr>\n      <th>11</th>\n      <td>0.027850</td>\n      <td>2.00681</td>\n      <td>1.91338</td>\n      <td>OI094</td>\n    </tr>\n    <tr>\n      <th>12</th>\n      <td>0.031156</td>\n      <td>1.95130</td>\n      <td>1.86407</td>\n      <td>OI171</td>\n    </tr>\n    <tr>\n      <th>13</th>\n      <td>0.031997</td>\n      <td>1.93801</td>\n      <td>1.85221</td>\n      <td>OI228</td>\n    </tr>\n    <tr>\n      <th>14</th>\n      <td>0.033605</td>\n      <td>1.91344</td>\n      <td>1.83027</td>\n      <td>OI167</td>\n    </tr>\n    <tr>\n      <th>15</th>\n      <td>0.038864</td>\n      <td>1.83962</td>\n      <td>1.76402</td>\n      <td>OI083</td>\n    </tr>\n    <tr>\n      <th>16</th>\n      <td>0.039446</td>\n      <td>1.83200</td>\n      <td>1.75715</td>\n      <td>OI073</td>\n    </tr>\n    <tr>\n      <th>17</th>\n      <td>0.040871</td>\n      <td>1.81372</td>\n      <td>1.74066</td>\n      <td>OI172</td>\n    </tr>\n    <tr>\n      <th>18</th>\n      <td>0.041126</td>\n      <td>1.81051</td>\n      <td>1.73776</td>\n      <td>OI132</td>\n    </tr>\n    <tr>\n      <th>19</th>\n      <td>0.041724</td>\n      <td>1.80305</td>\n      <td>1.73102</td>\n      <td>OI038</td>\n    </tr>\n    <tr>\n      <th>20</th>\n      <td>0.042808</td>\n      <td>1.78974</td>\n      <td>1.71899</td>\n      <td>OI104</td>\n    </tr>\n    <tr>\n      <th>21</th>\n      <td>0.048941</td>\n      <td>1.71950</td>\n      <td>1.65521</td>\n      <td>OI168</td>\n    </tr>\n  </tbody>\n</table>\n</div>"
     },
     "metadata": {},
     "execution_count": 37
    }
   ],
   "source": [
    "df = pd.read_excel(file_names[file_idx], header=1)\n",
    "df"
   ]
  },
  {
   "cell_type": "code",
   "execution_count": 38,
   "metadata": {},
   "outputs": [
    {
     "output_type": "execute_result",
     "data": {
      "text/plain": [
       "    Effect size r\n",
       "0        0.737817\n",
       "1        0.723786\n",
       "2        0.714512\n",
       "3        0.698154\n",
       "4        0.692706\n",
       "5        0.691340\n",
       "6        0.672370\n",
       "7        0.663121\n",
       "8        0.652661\n",
       "9        0.652523\n",
       "10       0.634952\n",
       "11       0.615587\n",
       "12       0.605589\n",
       "13       0.603141\n",
       "14       0.598566\n",
       "15       0.584389\n",
       "16       0.582888\n",
       "17       0.579259\n",
       "18       0.578617\n",
       "19       0.577121\n",
       "20       0.574437\n",
       "21       0.559892"
      ],
      "text/html": "<div>\n<style scoped>\n    .dataframe tbody tr th:only-of-type {\n        vertical-align: middle;\n    }\n\n    .dataframe tbody tr th {\n        vertical-align: top;\n    }\n\n    .dataframe thead th {\n        text-align: right;\n    }\n</style>\n<table border=\"1\" class=\"dataframe\">\n  <thead>\n    <tr style=\"text-align: right;\">\n      <th></th>\n      <th>Effect size r</th>\n    </tr>\n  </thead>\n  <tbody>\n    <tr>\n      <th>0</th>\n      <td>0.737817</td>\n    </tr>\n    <tr>\n      <th>1</th>\n      <td>0.723786</td>\n    </tr>\n    <tr>\n      <th>2</th>\n      <td>0.714512</td>\n    </tr>\n    <tr>\n      <th>3</th>\n      <td>0.698154</td>\n    </tr>\n    <tr>\n      <th>4</th>\n      <td>0.692706</td>\n    </tr>\n    <tr>\n      <th>5</th>\n      <td>0.691340</td>\n    </tr>\n    <tr>\n      <th>6</th>\n      <td>0.672370</td>\n    </tr>\n    <tr>\n      <th>7</th>\n      <td>0.663121</td>\n    </tr>\n    <tr>\n      <th>8</th>\n      <td>0.652661</td>\n    </tr>\n    <tr>\n      <th>9</th>\n      <td>0.652523</td>\n    </tr>\n    <tr>\n      <th>10</th>\n      <td>0.634952</td>\n    </tr>\n    <tr>\n      <th>11</th>\n      <td>0.615587</td>\n    </tr>\n    <tr>\n      <th>12</th>\n      <td>0.605589</td>\n    </tr>\n    <tr>\n      <th>13</th>\n      <td>0.603141</td>\n    </tr>\n    <tr>\n      <th>14</th>\n      <td>0.598566</td>\n    </tr>\n    <tr>\n      <th>15</th>\n      <td>0.584389</td>\n    </tr>\n    <tr>\n      <th>16</th>\n      <td>0.582888</td>\n    </tr>\n    <tr>\n      <th>17</th>\n      <td>0.579259</td>\n    </tr>\n    <tr>\n      <th>18</th>\n      <td>0.578617</td>\n    </tr>\n    <tr>\n      <th>19</th>\n      <td>0.577121</td>\n    </tr>\n    <tr>\n      <th>20</th>\n      <td>0.574437</td>\n    </tr>\n    <tr>\n      <th>21</th>\n      <td>0.559892</td>\n    </tr>\n  </tbody>\n</table>\n</div>"
     },
     "metadata": {},
     "execution_count": 38
    }
   ],
   "source": [
    "tValues = df.iloc[:,[2]]\n",
    "#sample size: 30, number of parameters: 6(covarites + intercept)\n",
    "effect_size = (tValues**2 / (tValues**2 + 6))**0.5\n",
    "effect_size.columns = ['Effect size r']\n",
    "effect_size"
   ]
  },
  {
   "cell_type": "code",
   "execution_count": null,
   "metadata": {},
   "outputs": [],
   "source": []
  }
 ]
}