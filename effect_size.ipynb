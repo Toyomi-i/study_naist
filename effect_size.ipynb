{
 "metadata": {
  "language_info": {
   "codemirror_mode": {
    "name": "ipython",
    "version": 3
   },
   "file_extension": ".py",
   "mimetype": "text/x-python",
   "name": "python",
   "nbconvert_exporter": "python",
   "pygments_lexer": "ipython3",
   "version": "3.8.5"
  },
  "orig_nbformat": 4,
  "kernelspec": {
   "name": "python3",
   "display_name": "Python 3.8.5 64-bit ('3.8.5': pyenv)"
  },
  "interpreter": {
   "hash": "5518ef21977f2f7cfbc2af1de56ff3c1849cd3f20e332759f644f321a7cde6de"
  }
 },
 "nbformat": 4,
 "nbformat_minor": 2,
 "cells": [
  {
   "source": [
    "## Calculate effect size\n",
    "\n",
    "参考: https://mizumot.com/files/EffectSize_KELES31.pdf\n",
    "\n",
    "重回帰モデルの偏相関係数に対する個別の検定(t検定) <br>\n",
    "t検定に対する効果量$r$\n",
    "$$ r = \\frac{t^2}{t^2 + df} $$\n",
    "\n",
    "$t$: t値 <br>\n",
    "$df$\b: 自由度(サンプル数 - 推定するパラメータ数) "
   ],
   "cell_type": "markdown",
   "metadata": {}
  },
  {
   "source": [
    "### input data"
   ],
   "cell_type": "markdown",
   "metadata": {}
  },
  {
   "cell_type": "code",
   "execution_count": 9,
   "metadata": {},
   "outputs": [
    {
     "output_type": "stream",
     "name": "stdout",
     "text": [
      "../Results/BN_MR_A_M_S_T_G/BN_MR_Ag_Mr_Sb_Ti_Ge.xlsx\n../Results/BN_MR_A_M_T_G/BN_MR_Ag_Mr_Ti_Ge.xlsx\n../Results/BN_MR_A_S_T_G/BN_MR_Ag_Sb_Ti_Ge.xlsx\n"
     ]
    }
   ],
   "source": [
    "%ls ../Results/*/*.xlsx"
   ]
  },
  {
   "cell_type": "code",
   "execution_count": null,
   "metadata": {},
   "outputs": [],
   "source": []
  }
 ]
}