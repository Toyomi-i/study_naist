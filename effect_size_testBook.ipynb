{
 "metadata": {
  "language_info": {
   "codemirror_mode": {
    "name": "ipython",
    "version": 3
   },
   "file_extension": ".py",
   "mimetype": "text/x-python",
   "name": "python",
   "nbconvert_exporter": "python",
   "pygments_lexer": "ipython3",
   "version": "3.8.5"
  },
  "orig_nbformat": 4,
  "kernelspec": {
   "name": "python3",
   "display_name": "Python 3.8.5 64-bit ('3.8.5': pyenv)"
  },
  "interpreter": {
   "hash": "5518ef21977f2f7cfbc2af1de56ff3c1849cd3f20e332759f644f321a7cde6de"
  }
 },
 "nbformat": 4,
 "nbformat_minor": 2,
 "cells": [
  {
   "source": [
    "## Calculate effect size\n",
    "\n",
    "参考: https://mizumot.com/files/EffectSize_KELES31.pdf\n",
    "\n",
    "重回帰モデルの偏相関係数に対する個別の検定(t検定) <br>\n",
    "t検定に対する効果量$r$\n",
    "$$ r = \\sqrt{\\frac{t^2}{t^2 + df}} $$\n",
    "\n",
    "$t$: t値 <br>\n",
    "$df$\b: 自由度(サンプル数 - 推定するパラメータ数) "
   ],
   "cell_type": "markdown",
   "metadata": {}
  },
  {
   "source": [
    "import pandas as pd\n",
    "import openpyxl\n",
    "import glob\n",
    "import os"
   ],
   "cell_type": "code",
   "metadata": {},
   "execution_count": 1,
   "outputs": []
  },
  {
   "source": [
    "### Input Data\n",
    "\n",
    "ファイル名の意味 <br>\n",
    "\\[atlas\\]\\_[model\\]_\\[covariates\\].xlsx\n",
    "\n",
    "例　BN_MR_Ag_Mr_Sb_Ti_Ge.xlsx <br>\n",
    "- BN: BrainNetome\n",
    "- MR: Multiple Regression\n",
    "- Ag: age, Mr: MRI_performance, Sb: subCategory_performance, Ti: TIV, Ge: Gender"
   ],
   "cell_type": "markdown",
   "metadata": {}
  },
  {
   "cell_type": "code",
   "execution_count": 16,
   "metadata": {},
   "outputs": [
    {
     "output_type": "execute_result",
     "data": {
      "text/plain": [
       "['../corresponded/cBN_MR_Ag_Mr_Ti_Ge_inve.xlsx',\n",
       " '../corresponded/cBN_MR_Ag_Sb_Ti_Ge_inve.xlsx']"
      ]
     },
     "metadata": {},
     "execution_count": 16
    }
   ],
   "source": [
    "# optional\n",
    "file_idx = 1\n",
    "\n",
    "file_names = glob.glob('../corresponded/*.xlsx', recursive=True)\n",
    "file_names"
   ]
  },
  {
   "cell_type": "code",
   "execution_count": 17,
   "metadata": {},
   "outputs": [
    {
     "output_type": "execute_result",
     "data": {
      "text/plain": [
       "     0                                            P-value   contrast  \\\n",
       "0    1                                         0.00259125              \n",
       "1    2                                         0.00617724              \n",
       "2    3                                           0.007923              \n",
       "3    4                                          0.0231075              \n",
       "4    5                                          0.0238235              \n",
       "5    6                                           0.033308              \n",
       "6    7                                          0.0343245              \n",
       "7    8                                          0.0428337              \n",
       "8    9                                          0.0463994              \n",
       "9   10                                          0.0495904              \n",
       "10  11  ----------------------------------------------...        NaN   \n",
       "11  12                                          0.0240173    inverse   \n",
       "12  13                                          0.0270931    inverse   \n",
       "13  14                                          0.0329957    inverse   \n",
       "\n",
       "      T-value   Ze-value BN_Atlas_246_2mm                 0.1  \\\n",
       "0     3.06339    2.79547            OI090       Temporal Lobe   \n",
       "1     2.69662    2.50185            OI152       Parietal Lobe   \n",
       "2     2.58819    2.41244            OI094       Temporal Lobe   \n",
       "3     2.09759    1.99342            OI002       Frontal Lobe    \n",
       "4     2.08288    1.98050            OI110       Temporal Lobe   \n",
       "5     1.91790    1.83426            OI079       Temporal Lobe   \n",
       "6     1.90277    1.82072            OI071       Temporal Lobe   \n",
       "7     1.78944    1.71871            OI012       Frontal Lobe    \n",
       "8     1.74765    1.68082            OI029       Frontal Lobe    \n",
       "9     1.71251    1.64884            OI176         Limbic Lobe   \n",
       "10        NaN        NaN              NaN                   0   \n",
       "11   -2.07897   -1.97706            OI214  Subcortical Nuclei   \n",
       "12   -2.02033   -1.92535            OI128       Parietal Lobe   \n",
       "13   -1.92263   -1.83848            OI202      Occipital Lobe   \n",
       "\n",
       "                               0.2  \\\n",
       "0     ITG, Inferior Temporal Gyrus   \n",
       "1                  Pcun, Precuneus   \n",
       "2     ITG, Inferior Temporal Gyrus   \n",
       "3    SFG, Superior Frontal Gyrus     \n",
       "4       PhG, Parahippocampal Gyrus   \n",
       "5     STG, Superior Temporal Gyrus   \n",
       "6     STG, Superior Temporal Gyrus   \n",
       "7    SFG, Superior Frontal Gyrus     \n",
       "8      IFG, Inferior Frontal Gyrus   \n",
       "9              CG, Cingulate Gyrus   \n",
       "10                               0   \n",
       "11                  Amyg, Amygdala   \n",
       "12   SPL, Superior Parietal Lobule   \n",
       "13  LOcC, lateral Occipital Cortex   \n",
       "\n",
       "                                                  0.3  \n",
       "0                 A20iv, intermediate ventral area 20  \n",
       "1   dmPOS, dorsomedial parietooccipital  sulcus(PEr)   \n",
       "2                               A20r, rostral area 20  \n",
       "3                                  A8m, medial area 8  \n",
       "4                         A35/36r, rostral area 35/36  \n",
       "5                               A22r, rostral area 22  \n",
       "6                                  A41/42, area 41/42  \n",
       "7                                   A9m,medial area 9  \n",
       "8                                 A44d,dorsal area 44  \n",
       "9                                A23d, dorsal area 23  \n",
       "10                                                  0  \n",
       "11                            lAmyg, lateral amygdala  \n",
       "12                                 A7c, caudal area 7  \n",
       "13                                V5/MT+, area V5/MT+  "
      ],
      "text/html": "<div>\n<style scoped>\n    .dataframe tbody tr th:only-of-type {\n        vertical-align: middle;\n    }\n\n    .dataframe tbody tr th {\n        vertical-align: top;\n    }\n\n    .dataframe thead th {\n        text-align: right;\n    }\n</style>\n<table border=\"1\" class=\"dataframe\">\n  <thead>\n    <tr style=\"text-align: right;\">\n      <th></th>\n      <th>0</th>\n      <th>P-value</th>\n      <th>contrast</th>\n      <th>T-value</th>\n      <th>Ze-value</th>\n      <th>BN_Atlas_246_2mm</th>\n      <th>0.1</th>\n      <th>0.2</th>\n      <th>0.3</th>\n    </tr>\n  </thead>\n  <tbody>\n    <tr>\n      <th>0</th>\n      <td>1</td>\n      <td>0.00259125</td>\n      <td></td>\n      <td>3.06339</td>\n      <td>2.79547</td>\n      <td>OI090</td>\n      <td>Temporal Lobe</td>\n      <td>ITG, Inferior Temporal Gyrus</td>\n      <td>A20iv, intermediate ventral area 20</td>\n    </tr>\n    <tr>\n      <th>1</th>\n      <td>2</td>\n      <td>0.00617724</td>\n      <td></td>\n      <td>2.69662</td>\n      <td>2.50185</td>\n      <td>OI152</td>\n      <td>Parietal Lobe</td>\n      <td>Pcun, Precuneus</td>\n      <td>dmPOS, dorsomedial parietooccipital  sulcus(PEr)</td>\n    </tr>\n    <tr>\n      <th>2</th>\n      <td>3</td>\n      <td>0.007923</td>\n      <td></td>\n      <td>2.58819</td>\n      <td>2.41244</td>\n      <td>OI094</td>\n      <td>Temporal Lobe</td>\n      <td>ITG, Inferior Temporal Gyrus</td>\n      <td>A20r, rostral area 20</td>\n    </tr>\n    <tr>\n      <th>3</th>\n      <td>4</td>\n      <td>0.0231075</td>\n      <td></td>\n      <td>2.09759</td>\n      <td>1.99342</td>\n      <td>OI002</td>\n      <td>Frontal Lobe</td>\n      <td>SFG, Superior Frontal Gyrus</td>\n      <td>A8m, medial area 8</td>\n    </tr>\n    <tr>\n      <th>4</th>\n      <td>5</td>\n      <td>0.0238235</td>\n      <td></td>\n      <td>2.08288</td>\n      <td>1.98050</td>\n      <td>OI110</td>\n      <td>Temporal Lobe</td>\n      <td>PhG, Parahippocampal Gyrus</td>\n      <td>A35/36r, rostral area 35/36</td>\n    </tr>\n    <tr>\n      <th>5</th>\n      <td>6</td>\n      <td>0.033308</td>\n      <td></td>\n      <td>1.91790</td>\n      <td>1.83426</td>\n      <td>OI079</td>\n      <td>Temporal Lobe</td>\n      <td>STG, Superior Temporal Gyrus</td>\n      <td>A22r, rostral area 22</td>\n    </tr>\n    <tr>\n      <th>6</th>\n      <td>7</td>\n      <td>0.0343245</td>\n      <td></td>\n      <td>1.90277</td>\n      <td>1.82072</td>\n      <td>OI071</td>\n      <td>Temporal Lobe</td>\n      <td>STG, Superior Temporal Gyrus</td>\n      <td>A41/42, area 41/42</td>\n    </tr>\n    <tr>\n      <th>7</th>\n      <td>8</td>\n      <td>0.0428337</td>\n      <td></td>\n      <td>1.78944</td>\n      <td>1.71871</td>\n      <td>OI012</td>\n      <td>Frontal Lobe</td>\n      <td>SFG, Superior Frontal Gyrus</td>\n      <td>A9m,medial area 9</td>\n    </tr>\n    <tr>\n      <th>8</th>\n      <td>9</td>\n      <td>0.0463994</td>\n      <td></td>\n      <td>1.74765</td>\n      <td>1.68082</td>\n      <td>OI029</td>\n      <td>Frontal Lobe</td>\n      <td>IFG, Inferior Frontal Gyrus</td>\n      <td>A44d,dorsal area 44</td>\n    </tr>\n    <tr>\n      <th>9</th>\n      <td>10</td>\n      <td>0.0495904</td>\n      <td></td>\n      <td>1.71251</td>\n      <td>1.64884</td>\n      <td>OI176</td>\n      <td>Limbic Lobe</td>\n      <td>CG, Cingulate Gyrus</td>\n      <td>A23d, dorsal area 23</td>\n    </tr>\n    <tr>\n      <th>10</th>\n      <td>11</td>\n      <td>----------------------------------------------...</td>\n      <td>NaN</td>\n      <td>NaN</td>\n      <td>NaN</td>\n      <td>NaN</td>\n      <td>0</td>\n      <td>0</td>\n      <td>0</td>\n    </tr>\n    <tr>\n      <th>11</th>\n      <td>12</td>\n      <td>0.0240173</td>\n      <td>inverse</td>\n      <td>-2.07897</td>\n      <td>-1.97706</td>\n      <td>OI214</td>\n      <td>Subcortical Nuclei</td>\n      <td>Amyg, Amygdala</td>\n      <td>lAmyg, lateral amygdala</td>\n    </tr>\n    <tr>\n      <th>12</th>\n      <td>13</td>\n      <td>0.0270931</td>\n      <td>inverse</td>\n      <td>-2.02033</td>\n      <td>-1.92535</td>\n      <td>OI128</td>\n      <td>Parietal Lobe</td>\n      <td>SPL, Superior Parietal Lobule</td>\n      <td>A7c, caudal area 7</td>\n    </tr>\n    <tr>\n      <th>13</th>\n      <td>14</td>\n      <td>0.0329957</td>\n      <td>inverse</td>\n      <td>-1.92263</td>\n      <td>-1.83848</td>\n      <td>OI202</td>\n      <td>Occipital Lobe</td>\n      <td>LOcC, lateral Occipital Cortex</td>\n      <td>V5/MT+, area V5/MT+</td>\n    </tr>\n  </tbody>\n</table>\n</div>"
     },
     "metadata": {},
     "execution_count": 17
    }
   ],
   "source": [
    "df = pd.read_excel(file_names[file_idx], header=1)\n",
    "df"
   ]
  },
  {
   "source": [
    "### Calculate effect size"
   ],
   "cell_type": "markdown",
   "metadata": {}
  },
  {
   "cell_type": "code",
   "execution_count": 18,
   "metadata": {},
   "outputs": [
    {
     "output_type": "execute_result",
     "data": {
      "text/plain": [
       "                                              P-value   contrast    T-value  \\\n",
       "0                                          0.00259125               3.06339   \n",
       "1                                          0.00617724               2.69662   \n",
       "2                                            0.007923               2.58819   \n",
       "3                                           0.0231075               2.09759   \n",
       "4                                           0.0238235               2.08288   \n",
       "5                                            0.033308               1.91790   \n",
       "6                                           0.0343245               1.90277   \n",
       "7                                           0.0428337               1.78944   \n",
       "8                                           0.0463994               1.74765   \n",
       "9                                           0.0495904               1.71251   \n",
       "10  ----------------------------------------------...        NaN        NaN   \n",
       "11                                          0.0240173    inverse   -2.07897   \n",
       "12                                          0.0270931    inverse   -2.02033   \n",
       "13                                          0.0329957    inverse   -1.92263   \n",
       "\n",
       "    Effect size r   Ze-value BN_Atlas_246_2mm                Lobe  \\\n",
       "0        0.522422    2.79547            OI090       Temporal Lobe   \n",
       "1        0.474688    2.50185            OI152       Parietal Lobe   \n",
       "2        0.459701    2.41244            OI094       Temporal Lobe   \n",
       "3        0.386855    1.99342            OI002       Frontal Lobe    \n",
       "4        0.384544    1.98050            OI110       Temporal Lobe   \n",
       "5        0.358137    1.83426            OI079       Temporal Lobe   \n",
       "6        0.355670    1.82072            OI071       Temporal Lobe   \n",
       "7        0.336959    1.71871            OI012       Frontal Lobe    \n",
       "8        0.329955    1.68082            OI029       Frontal Lobe    \n",
       "9        0.324024    1.64884            OI176         Limbic Lobe   \n",
       "10            NaN        NaN              NaN                   0   \n",
       "11       0.383929   -1.97706            OI214  Subcortical Nuclei   \n",
       "12       0.374638   -1.92535            OI128       Parietal Lobe   \n",
       "13       0.358906   -1.83848            OI202      Occipital Lobe   \n",
       "\n",
       "                             Gyrus  \\\n",
       "0     ITG, Inferior Temporal Gyrus   \n",
       "1                  Pcun, Precuneus   \n",
       "2     ITG, Inferior Temporal Gyrus   \n",
       "3    SFG, Superior Frontal Gyrus     \n",
       "4       PhG, Parahippocampal Gyrus   \n",
       "5     STG, Superior Temporal Gyrus   \n",
       "6     STG, Superior Temporal Gyrus   \n",
       "7    SFG, Superior Frontal Gyrus     \n",
       "8      IFG, Inferior Frontal Gyrus   \n",
       "9              CG, Cingulate Gyrus   \n",
       "10                               0   \n",
       "11                  Amyg, Amygdala   \n",
       "12   SPL, Superior Parietal Lobule   \n",
       "13  LOcC, lateral Occipital Cortex   \n",
       "\n",
       "                                                   BA  \n",
       "0                 A20iv, intermediate ventral area 20  \n",
       "1   dmPOS, dorsomedial parietooccipital  sulcus(PEr)   \n",
       "2                               A20r, rostral area 20  \n",
       "3                                  A8m, medial area 8  \n",
       "4                         A35/36r, rostral area 35/36  \n",
       "5                               A22r, rostral area 22  \n",
       "6                                  A41/42, area 41/42  \n",
       "7                                   A9m,medial area 9  \n",
       "8                                 A44d,dorsal area 44  \n",
       "9                                A23d, dorsal area 23  \n",
       "10                                                  0  \n",
       "11                            lAmyg, lateral amygdala  \n",
       "12                                 A7c, caudal area 7  \n",
       "13                                V5/MT+, area V5/MT+  "
      ],
      "text/html": "<div>\n<style scoped>\n    .dataframe tbody tr th:only-of-type {\n        vertical-align: middle;\n    }\n\n    .dataframe tbody tr th {\n        vertical-align: top;\n    }\n\n    .dataframe thead th {\n        text-align: right;\n    }\n</style>\n<table border=\"1\" class=\"dataframe\">\n  <thead>\n    <tr style=\"text-align: right;\">\n      <th></th>\n      <th>P-value</th>\n      <th>contrast</th>\n      <th>T-value</th>\n      <th>Effect size r</th>\n      <th>Ze-value</th>\n      <th>BN_Atlas_246_2mm</th>\n      <th>Lobe</th>\n      <th>Gyrus</th>\n      <th>BA</th>\n    </tr>\n  </thead>\n  <tbody>\n    <tr>\n      <th>0</th>\n      <td>0.00259125</td>\n      <td></td>\n      <td>3.06339</td>\n      <td>0.522422</td>\n      <td>2.79547</td>\n      <td>OI090</td>\n      <td>Temporal Lobe</td>\n      <td>ITG, Inferior Temporal Gyrus</td>\n      <td>A20iv, intermediate ventral area 20</td>\n    </tr>\n    <tr>\n      <th>1</th>\n      <td>0.00617724</td>\n      <td></td>\n      <td>2.69662</td>\n      <td>0.474688</td>\n      <td>2.50185</td>\n      <td>OI152</td>\n      <td>Parietal Lobe</td>\n      <td>Pcun, Precuneus</td>\n      <td>dmPOS, dorsomedial parietooccipital  sulcus(PEr)</td>\n    </tr>\n    <tr>\n      <th>2</th>\n      <td>0.007923</td>\n      <td></td>\n      <td>2.58819</td>\n      <td>0.459701</td>\n      <td>2.41244</td>\n      <td>OI094</td>\n      <td>Temporal Lobe</td>\n      <td>ITG, Inferior Temporal Gyrus</td>\n      <td>A20r, rostral area 20</td>\n    </tr>\n    <tr>\n      <th>3</th>\n      <td>0.0231075</td>\n      <td></td>\n      <td>2.09759</td>\n      <td>0.386855</td>\n      <td>1.99342</td>\n      <td>OI002</td>\n      <td>Frontal Lobe</td>\n      <td>SFG, Superior Frontal Gyrus</td>\n      <td>A8m, medial area 8</td>\n    </tr>\n    <tr>\n      <th>4</th>\n      <td>0.0238235</td>\n      <td></td>\n      <td>2.08288</td>\n      <td>0.384544</td>\n      <td>1.98050</td>\n      <td>OI110</td>\n      <td>Temporal Lobe</td>\n      <td>PhG, Parahippocampal Gyrus</td>\n      <td>A35/36r, rostral area 35/36</td>\n    </tr>\n    <tr>\n      <th>5</th>\n      <td>0.033308</td>\n      <td></td>\n      <td>1.91790</td>\n      <td>0.358137</td>\n      <td>1.83426</td>\n      <td>OI079</td>\n      <td>Temporal Lobe</td>\n      <td>STG, Superior Temporal Gyrus</td>\n      <td>A22r, rostral area 22</td>\n    </tr>\n    <tr>\n      <th>6</th>\n      <td>0.0343245</td>\n      <td></td>\n      <td>1.90277</td>\n      <td>0.355670</td>\n      <td>1.82072</td>\n      <td>OI071</td>\n      <td>Temporal Lobe</td>\n      <td>STG, Superior Temporal Gyrus</td>\n      <td>A41/42, area 41/42</td>\n    </tr>\n    <tr>\n      <th>7</th>\n      <td>0.0428337</td>\n      <td></td>\n      <td>1.78944</td>\n      <td>0.336959</td>\n      <td>1.71871</td>\n      <td>OI012</td>\n      <td>Frontal Lobe</td>\n      <td>SFG, Superior Frontal Gyrus</td>\n      <td>A9m,medial area 9</td>\n    </tr>\n    <tr>\n      <th>8</th>\n      <td>0.0463994</td>\n      <td></td>\n      <td>1.74765</td>\n      <td>0.329955</td>\n      <td>1.68082</td>\n      <td>OI029</td>\n      <td>Frontal Lobe</td>\n      <td>IFG, Inferior Frontal Gyrus</td>\n      <td>A44d,dorsal area 44</td>\n    </tr>\n    <tr>\n      <th>9</th>\n      <td>0.0495904</td>\n      <td></td>\n      <td>1.71251</td>\n      <td>0.324024</td>\n      <td>1.64884</td>\n      <td>OI176</td>\n      <td>Limbic Lobe</td>\n      <td>CG, Cingulate Gyrus</td>\n      <td>A23d, dorsal area 23</td>\n    </tr>\n    <tr>\n      <th>10</th>\n      <td>----------------------------------------------...</td>\n      <td>NaN</td>\n      <td>NaN</td>\n      <td>NaN</td>\n      <td>NaN</td>\n      <td>NaN</td>\n      <td>0</td>\n      <td>0</td>\n      <td>0</td>\n    </tr>\n    <tr>\n      <th>11</th>\n      <td>0.0240173</td>\n      <td>inverse</td>\n      <td>-2.07897</td>\n      <td>0.383929</td>\n      <td>-1.97706</td>\n      <td>OI214</td>\n      <td>Subcortical Nuclei</td>\n      <td>Amyg, Amygdala</td>\n      <td>lAmyg, lateral amygdala</td>\n    </tr>\n    <tr>\n      <th>12</th>\n      <td>0.0270931</td>\n      <td>inverse</td>\n      <td>-2.02033</td>\n      <td>0.374638</td>\n      <td>-1.92535</td>\n      <td>OI128</td>\n      <td>Parietal Lobe</td>\n      <td>SPL, Superior Parietal Lobule</td>\n      <td>A7c, caudal area 7</td>\n    </tr>\n    <tr>\n      <th>13</th>\n      <td>0.0329957</td>\n      <td>inverse</td>\n      <td>-1.92263</td>\n      <td>0.358906</td>\n      <td>-1.83848</td>\n      <td>OI202</td>\n      <td>Occipital Lobe</td>\n      <td>LOcC, lateral Occipital Cortex</td>\n      <td>V5/MT+, area V5/MT+</td>\n    </tr>\n  </tbody>\n</table>\n</div>"
     },
     "metadata": {},
     "execution_count": 18
    }
   ],
   "source": [
    "# without inverse...2, include inverse...3\n",
    "tValues = df.iloc[:,[3]]\n",
    "tValues\n",
    "\n",
    "#sample size: 30, number of parameters: 5(covarites + intercept)\n",
    "effect_size = (tValues**2 / (tValues**2 + 25))**0.5\n",
    "effect_size.columns = ['Effect size r']\n",
    "df.insert(4, effect_size.columns[0], effect_size[effect_size.columns[0]])\n",
    "\n",
    "#df = df.rename(columns={df.columns[6]: 'Lobe', df.columns[7]: 'Gyrus', df.columns[8]: 'BA'})\n",
    "# in case of including inverse\n",
    "df = df.rename(columns={df.columns[7]: 'Lobe', df.columns[8]: 'Gyrus', df.columns[9]: 'BA'})\n",
    "df = df.drop(df.columns[0], axis=1)\n",
    "df"
   ]
  },
  {
   "source": [
    "### Output Excel"
   ],
   "cell_type": "markdown",
   "metadata": {}
  },
  {
   "cell_type": "code",
   "execution_count": 19,
   "metadata": {},
   "outputs": [],
   "source": [
    "save_dir = '../effect_size'\n",
    "os.makedirs(save_dir, exist_ok=True)\n",
    "\n",
    "tmp = pd.ExcelFile(file_names[file_idx])\n",
    "\n",
    "df.to_excel(save_dir+'/e'+file_names[file_idx].split('/')[-1], sheet_name=tmp.sheet_names[0])"
   ]
  },
  {
   "cell_type": "code",
   "execution_count": null,
   "metadata": {},
   "outputs": [],
   "source": []
  }
 ]
}