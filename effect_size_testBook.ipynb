{
 "metadata": {
  "language_info": {
   "codemirror_mode": {
    "name": "ipython",
    "version": 3
   },
   "file_extension": ".py",
   "mimetype": "text/x-python",
   "name": "python",
   "nbconvert_exporter": "python",
   "pygments_lexer": "ipython3",
   "version": "3.8.5"
  },
  "orig_nbformat": 4,
  "kernelspec": {
   "name": "python3",
   "display_name": "Python 3.8.5 64-bit ('3.8.5': pyenv)"
  },
  "interpreter": {
   "hash": "5518ef21977f2f7cfbc2af1de56ff3c1849cd3f20e332759f644f321a7cde6de"
  }
 },
 "nbformat": 4,
 "nbformat_minor": 2,
 "cells": [
  {
   "source": [
    "## Calculate effect size\n",
    "\n",
    "参考: https://mizumot.com/files/EffectSize_KELES31.pdf\n",
    "\n",
    "重回帰モデルの偏相関係数に対する個別の検定(t検定) <br>\n",
    "t検定に対する効果量$r$\n",
    "$$ r = \\sqrt{\\frac{t^2}{t^2 + df}} $$\n",
    "\n",
    "$t$: t値 <br>\n",
    "$df$\b: 自由度(サンプル数 - 推定するパラメータ数) "
   ],
   "cell_type": "markdown",
   "metadata": {}
  },
  {
   "source": [
    "import pandas as pd\n",
    "import openpyxl\n",
    "import glob\n",
    "import os"
   ],
   "cell_type": "code",
   "metadata": {},
   "execution_count": 2,
   "outputs": []
  },
  {
   "source": [
    "### Input Data\n",
    "\n",
    "ファイル名の意味 <br>\n",
    "\\[atlas\\]\\_[model\\]_\\[covariates\\].xlsx\n",
    "\n",
    "例　BN_MR_Ag_Mr_Sb_Ti_Ge.xlsx <br>\n",
    "- BN: BrainNetome\n",
    "- MR: Multiple Regression\n",
    "- Ag: age, Mr: MRI_performance, Sb: subCategory_performance, Ti: TIV, Ge: Gender"
   ],
   "cell_type": "markdown",
   "metadata": {}
  },
  {
   "cell_type": "code",
   "execution_count": 48,
   "metadata": {},
   "outputs": [
    {
     "output_type": "execute_result",
     "data": {
      "text/plain": [
       "['../corresponded/cBN_MR_Ag_Mr_Sb_Ti_Ge.xlsx',\n",
       " '../corresponded/cBN_MR_Ag_Mr_Ti_Ge.xlsx',\n",
       " '../corresponded/cBN_MR_Ag_Sb_Ti_Ge.xlsx']"
      ]
     },
     "metadata": {},
     "execution_count": 48
    }
   ],
   "source": [
    "# optional\n",
    "file_idx = 2\n",
    "\n",
    "file_names = glob.glob('../corresponded/*.xlsx', recursive=True)\n",
    "file_names"
   ]
  },
  {
   "cell_type": "code",
   "execution_count": 49,
   "metadata": {},
   "outputs": [
    {
     "output_type": "execute_result",
     "data": {
      "text/plain": [
       "    0    P-value    T-value   Ze-value BN_Atlas_246_2mm            0.1  \\\n",
       "0   1   0.002591    3.06339    2.79547            OI090  Temporal Lobe   \n",
       "1   2   0.006177    2.69662    2.50185            OI152  Parietal Lobe   \n",
       "2   3   0.007923    2.58819    2.41244            OI094  Temporal Lobe   \n",
       "3   4   0.023107    2.09759    1.99342            OI002  Frontal Lobe    \n",
       "4   5   0.023824    2.08288    1.98050            OI110  Temporal Lobe   \n",
       "5   6   0.033308    1.91790    1.83426            OI079  Temporal Lobe   \n",
       "6   7   0.034325    1.90277    1.82072            OI071  Temporal Lobe   \n",
       "7   8   0.042834    1.78944    1.71871            OI012  Frontal Lobe    \n",
       "8   9   0.046399    1.74765    1.68082            OI029  Frontal Lobe    \n",
       "9  10   0.049590    1.71251    1.64884            OI176    Limbic Lobe   \n",
       "\n",
       "                             0.2  \\\n",
       "0   ITG, Inferior Temporal Gyrus   \n",
       "1                Pcun, Precuneus   \n",
       "2   ITG, Inferior Temporal Gyrus   \n",
       "3  SFG, Superior Frontal Gyrus     \n",
       "4     PhG, Parahippocampal Gyrus   \n",
       "5   STG, Superior Temporal Gyrus   \n",
       "6   STG, Superior Temporal Gyrus   \n",
       "7  SFG, Superior Frontal Gyrus     \n",
       "8    IFG, Inferior Frontal Gyrus   \n",
       "9            CG, Cingulate Gyrus   \n",
       "\n",
       "                                                 0.3  \n",
       "0                A20iv, intermediate ventral area 20  \n",
       "1  dmPOS, dorsomedial parietooccipital  sulcus(PEr)   \n",
       "2                              A20r, rostral area 20  \n",
       "3                                 A8m, medial area 8  \n",
       "4                        A35/36r, rostral area 35/36  \n",
       "5                              A22r, rostral area 22  \n",
       "6                                 A41/42, area 41/42  \n",
       "7                                  A9m,medial area 9  \n",
       "8                                A44d,dorsal area 44  \n",
       "9                               A23d, dorsal area 23  "
      ],
      "text/html": "<div>\n<style scoped>\n    .dataframe tbody tr th:only-of-type {\n        vertical-align: middle;\n    }\n\n    .dataframe tbody tr th {\n        vertical-align: top;\n    }\n\n    .dataframe thead th {\n        text-align: right;\n    }\n</style>\n<table border=\"1\" class=\"dataframe\">\n  <thead>\n    <tr style=\"text-align: right;\">\n      <th></th>\n      <th>0</th>\n      <th>P-value</th>\n      <th>T-value</th>\n      <th>Ze-value</th>\n      <th>BN_Atlas_246_2mm</th>\n      <th>0.1</th>\n      <th>0.2</th>\n      <th>0.3</th>\n    </tr>\n  </thead>\n  <tbody>\n    <tr>\n      <th>0</th>\n      <td>1</td>\n      <td>0.002591</td>\n      <td>3.06339</td>\n      <td>2.79547</td>\n      <td>OI090</td>\n      <td>Temporal Lobe</td>\n      <td>ITG, Inferior Temporal Gyrus</td>\n      <td>A20iv, intermediate ventral area 20</td>\n    </tr>\n    <tr>\n      <th>1</th>\n      <td>2</td>\n      <td>0.006177</td>\n      <td>2.69662</td>\n      <td>2.50185</td>\n      <td>OI152</td>\n      <td>Parietal Lobe</td>\n      <td>Pcun, Precuneus</td>\n      <td>dmPOS, dorsomedial parietooccipital  sulcus(PEr)</td>\n    </tr>\n    <tr>\n      <th>2</th>\n      <td>3</td>\n      <td>0.007923</td>\n      <td>2.58819</td>\n      <td>2.41244</td>\n      <td>OI094</td>\n      <td>Temporal Lobe</td>\n      <td>ITG, Inferior Temporal Gyrus</td>\n      <td>A20r, rostral area 20</td>\n    </tr>\n    <tr>\n      <th>3</th>\n      <td>4</td>\n      <td>0.023107</td>\n      <td>2.09759</td>\n      <td>1.99342</td>\n      <td>OI002</td>\n      <td>Frontal Lobe</td>\n      <td>SFG, Superior Frontal Gyrus</td>\n      <td>A8m, medial area 8</td>\n    </tr>\n    <tr>\n      <th>4</th>\n      <td>5</td>\n      <td>0.023824</td>\n      <td>2.08288</td>\n      <td>1.98050</td>\n      <td>OI110</td>\n      <td>Temporal Lobe</td>\n      <td>PhG, Parahippocampal Gyrus</td>\n      <td>A35/36r, rostral area 35/36</td>\n    </tr>\n    <tr>\n      <th>5</th>\n      <td>6</td>\n      <td>0.033308</td>\n      <td>1.91790</td>\n      <td>1.83426</td>\n      <td>OI079</td>\n      <td>Temporal Lobe</td>\n      <td>STG, Superior Temporal Gyrus</td>\n      <td>A22r, rostral area 22</td>\n    </tr>\n    <tr>\n      <th>6</th>\n      <td>7</td>\n      <td>0.034325</td>\n      <td>1.90277</td>\n      <td>1.82072</td>\n      <td>OI071</td>\n      <td>Temporal Lobe</td>\n      <td>STG, Superior Temporal Gyrus</td>\n      <td>A41/42, area 41/42</td>\n    </tr>\n    <tr>\n      <th>7</th>\n      <td>8</td>\n      <td>0.042834</td>\n      <td>1.78944</td>\n      <td>1.71871</td>\n      <td>OI012</td>\n      <td>Frontal Lobe</td>\n      <td>SFG, Superior Frontal Gyrus</td>\n      <td>A9m,medial area 9</td>\n    </tr>\n    <tr>\n      <th>8</th>\n      <td>9</td>\n      <td>0.046399</td>\n      <td>1.74765</td>\n      <td>1.68082</td>\n      <td>OI029</td>\n      <td>Frontal Lobe</td>\n      <td>IFG, Inferior Frontal Gyrus</td>\n      <td>A44d,dorsal area 44</td>\n    </tr>\n    <tr>\n      <th>9</th>\n      <td>10</td>\n      <td>0.049590</td>\n      <td>1.71251</td>\n      <td>1.64884</td>\n      <td>OI176</td>\n      <td>Limbic Lobe</td>\n      <td>CG, Cingulate Gyrus</td>\n      <td>A23d, dorsal area 23</td>\n    </tr>\n  </tbody>\n</table>\n</div>"
     },
     "metadata": {},
     "execution_count": 49
    }
   ],
   "source": [
    "df = pd.read_excel(file_names[file_idx], header=1)\n",
    "df"
   ]
  },
  {
   "source": [
    "### Calculate effect size"
   ],
   "cell_type": "markdown",
   "metadata": {}
  },
  {
   "cell_type": "code",
   "execution_count": 50,
   "metadata": {},
   "outputs": [
    {
     "output_type": "execute_result",
     "data": {
      "text/plain": [
       "     P-value    T-value   Ze-value  Effect size r BN_Atlas_246_2mm  \\\n",
       "0   0.002591    3.06339    2.79547       0.522422            OI090   \n",
       "1   0.006177    2.69662    2.50185       0.474688            OI152   \n",
       "2   0.007923    2.58819    2.41244       0.459701            OI094   \n",
       "3   0.023107    2.09759    1.99342       0.386855            OI002   \n",
       "4   0.023824    2.08288    1.98050       0.384544            OI110   \n",
       "5   0.033308    1.91790    1.83426       0.358137            OI079   \n",
       "6   0.034325    1.90277    1.82072       0.355670            OI071   \n",
       "7   0.042834    1.78944    1.71871       0.336959            OI012   \n",
       "8   0.046399    1.74765    1.68082       0.329955            OI029   \n",
       "9   0.049590    1.71251    1.64884       0.324024            OI176   \n",
       "\n",
       "            Lobe                          Gyrus  \\\n",
       "0  Temporal Lobe   ITG, Inferior Temporal Gyrus   \n",
       "1  Parietal Lobe                Pcun, Precuneus   \n",
       "2  Temporal Lobe   ITG, Inferior Temporal Gyrus   \n",
       "3  Frontal Lobe   SFG, Superior Frontal Gyrus     \n",
       "4  Temporal Lobe     PhG, Parahippocampal Gyrus   \n",
       "5  Temporal Lobe   STG, Superior Temporal Gyrus   \n",
       "6  Temporal Lobe   STG, Superior Temporal Gyrus   \n",
       "7  Frontal Lobe   SFG, Superior Frontal Gyrus     \n",
       "8  Frontal Lobe     IFG, Inferior Frontal Gyrus   \n",
       "9    Limbic Lobe            CG, Cingulate Gyrus   \n",
       "\n",
       "                                                  BA  \n",
       "0                A20iv, intermediate ventral area 20  \n",
       "1  dmPOS, dorsomedial parietooccipital  sulcus(PEr)   \n",
       "2                              A20r, rostral area 20  \n",
       "3                                 A8m, medial area 8  \n",
       "4                        A35/36r, rostral area 35/36  \n",
       "5                              A22r, rostral area 22  \n",
       "6                                 A41/42, area 41/42  \n",
       "7                                  A9m,medial area 9  \n",
       "8                                A44d,dorsal area 44  \n",
       "9                               A23d, dorsal area 23  "
      ],
      "text/html": "<div>\n<style scoped>\n    .dataframe tbody tr th:only-of-type {\n        vertical-align: middle;\n    }\n\n    .dataframe tbody tr th {\n        vertical-align: top;\n    }\n\n    .dataframe thead th {\n        text-align: right;\n    }\n</style>\n<table border=\"1\" class=\"dataframe\">\n  <thead>\n    <tr style=\"text-align: right;\">\n      <th></th>\n      <th>P-value</th>\n      <th>T-value</th>\n      <th>Ze-value</th>\n      <th>Effect size r</th>\n      <th>BN_Atlas_246_2mm</th>\n      <th>Lobe</th>\n      <th>Gyrus</th>\n      <th>BA</th>\n    </tr>\n  </thead>\n  <tbody>\n    <tr>\n      <th>0</th>\n      <td>0.002591</td>\n      <td>3.06339</td>\n      <td>2.79547</td>\n      <td>0.522422</td>\n      <td>OI090</td>\n      <td>Temporal Lobe</td>\n      <td>ITG, Inferior Temporal Gyrus</td>\n      <td>A20iv, intermediate ventral area 20</td>\n    </tr>\n    <tr>\n      <th>1</th>\n      <td>0.006177</td>\n      <td>2.69662</td>\n      <td>2.50185</td>\n      <td>0.474688</td>\n      <td>OI152</td>\n      <td>Parietal Lobe</td>\n      <td>Pcun, Precuneus</td>\n      <td>dmPOS, dorsomedial parietooccipital  sulcus(PEr)</td>\n    </tr>\n    <tr>\n      <th>2</th>\n      <td>0.007923</td>\n      <td>2.58819</td>\n      <td>2.41244</td>\n      <td>0.459701</td>\n      <td>OI094</td>\n      <td>Temporal Lobe</td>\n      <td>ITG, Inferior Temporal Gyrus</td>\n      <td>A20r, rostral area 20</td>\n    </tr>\n    <tr>\n      <th>3</th>\n      <td>0.023107</td>\n      <td>2.09759</td>\n      <td>1.99342</td>\n      <td>0.386855</td>\n      <td>OI002</td>\n      <td>Frontal Lobe</td>\n      <td>SFG, Superior Frontal Gyrus</td>\n      <td>A8m, medial area 8</td>\n    </tr>\n    <tr>\n      <th>4</th>\n      <td>0.023824</td>\n      <td>2.08288</td>\n      <td>1.98050</td>\n      <td>0.384544</td>\n      <td>OI110</td>\n      <td>Temporal Lobe</td>\n      <td>PhG, Parahippocampal Gyrus</td>\n      <td>A35/36r, rostral area 35/36</td>\n    </tr>\n    <tr>\n      <th>5</th>\n      <td>0.033308</td>\n      <td>1.91790</td>\n      <td>1.83426</td>\n      <td>0.358137</td>\n      <td>OI079</td>\n      <td>Temporal Lobe</td>\n      <td>STG, Superior Temporal Gyrus</td>\n      <td>A22r, rostral area 22</td>\n    </tr>\n    <tr>\n      <th>6</th>\n      <td>0.034325</td>\n      <td>1.90277</td>\n      <td>1.82072</td>\n      <td>0.355670</td>\n      <td>OI071</td>\n      <td>Temporal Lobe</td>\n      <td>STG, Superior Temporal Gyrus</td>\n      <td>A41/42, area 41/42</td>\n    </tr>\n    <tr>\n      <th>7</th>\n      <td>0.042834</td>\n      <td>1.78944</td>\n      <td>1.71871</td>\n      <td>0.336959</td>\n      <td>OI012</td>\n      <td>Frontal Lobe</td>\n      <td>SFG, Superior Frontal Gyrus</td>\n      <td>A9m,medial area 9</td>\n    </tr>\n    <tr>\n      <th>8</th>\n      <td>0.046399</td>\n      <td>1.74765</td>\n      <td>1.68082</td>\n      <td>0.329955</td>\n      <td>OI029</td>\n      <td>Frontal Lobe</td>\n      <td>IFG, Inferior Frontal Gyrus</td>\n      <td>A44d,dorsal area 44</td>\n    </tr>\n    <tr>\n      <th>9</th>\n      <td>0.049590</td>\n      <td>1.71251</td>\n      <td>1.64884</td>\n      <td>0.324024</td>\n      <td>OI176</td>\n      <td>Limbic Lobe</td>\n      <td>CG, Cingulate Gyrus</td>\n      <td>A23d, dorsal area 23</td>\n    </tr>\n  </tbody>\n</table>\n</div>"
     },
     "metadata": {},
     "execution_count": 50
    }
   ],
   "source": [
    "tValues = df.iloc[:,[2]]\n",
    "tValues\n",
    "\n",
    "#sample size: 30, number of parameters: 5(covarites + intercept)\n",
    "effect_size = (tValues**2 / (tValues**2 + 25))**0.5\n",
    "effect_size.columns = ['Effect size r']\n",
    "df.insert(4, effect_size.columns[0], effect_size[effect_size.columns[0]])\n",
    "\n",
    "df = df.rename(columns={df.columns[6]: 'Lobe', df.columns[7]: 'Gyrus', df.columns[8]: 'BA'})\n",
    "df = df.drop(df.columns[0], axis=1)\n",
    "df"
   ]
  },
  {
   "source": [
    "### Output Excel"
   ],
   "cell_type": "markdown",
   "metadata": {}
  },
  {
   "cell_type": "code",
   "execution_count": 51,
   "metadata": {},
   "outputs": [],
   "source": [
    "save_dir = '../effect_size'\n",
    "os.makedirs(save_dir, exist_ok=True)\n",
    "\n",
    "tmp = pd.ExcelFile(file_names[file_idx])\n",
    "\n",
    "df.to_excel(save_dir+'/e'+file_names[file_idx].split('/')[-1], sheet_name=tmp.sheet_names[0])"
   ]
  },
  {
   "cell_type": "code",
   "execution_count": null,
   "metadata": {},
   "outputs": [],
   "source": []
  }
 ]
}