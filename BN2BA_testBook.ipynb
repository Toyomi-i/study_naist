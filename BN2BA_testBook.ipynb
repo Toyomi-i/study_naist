{
 "metadata": {
  "language_info": {
   "codemirror_mode": {
    "name": "ipython",
    "version": 3
   },
   "file_extension": ".py",
   "mimetype": "text/x-python",
   "name": "python",
   "nbconvert_exporter": "python",
   "pygments_lexer": "ipython3",
   "version": "3.8.5"
  },
  "orig_nbformat": 2,
  "kernelspec": {
   "name": "python3",
   "display_name": "Python 3.8.5 64-bit ('3.8.5': pyenv)"
  },
  "interpreter": {
   "hash": "5518ef21977f2f7cfbc2af1de56ff3c1849cd3f20e332759f644f321a7cde6de"
  }
 },
 "nbformat": 4,
 "nbformat_minor": 2,
 "cells": [
  {
   "cell_type": "code",
   "execution_count": 1,
   "metadata": {},
   "outputs": [],
   "source": [
    "import pandas as pd\n",
    "import openpyxl\n",
    "import glob\n",
    "import os\n",
    "import math"
   ]
  },
  {
   "source": [
    "## Data Input"
   ],
   "cell_type": "markdown",
   "metadata": {}
  },
  {
   "cell_type": "code",
   "execution_count": 14,
   "metadata": {},
   "outputs": [
    {
     "output_type": "execute_result",
     "data": {
      "text/plain": [
       "['../Results/BN_MR_A_M_T_G/BN_MR_Ag_Mr_Ti_Ge_inve.xlsx',\n",
       " '../Results/BN_MR_A_M_T_G/BN_MR_Ag_Mr_Ti_Ge01.xlsx',\n",
       " '../Results/BN_MR_A_M_T_G/BN_MR_Ag_Mr_Ti_Ge.xlsx',\n",
       " '../Results/BN_MR_A_M_S_T_G/BN_MR_Ag_Mr_Sb_Ti_Ge.xlsx',\n",
       " '../Results/BN_MR_A_S_T_G/BN_MR_Ag_Sb_Ti_Ge.xlsx',\n",
       " '../Results/BN_MR_A_S_T_G/BN_MR_Ag_Sb_Ti_Ge01.xlsx',\n",
       " '../Results/BN_MR_A_S_T_G/BN_MR_Ag_Sb_Ti_Ge_inve.xlsx']"
      ]
     },
     "metadata": {},
     "execution_count": 14
    }
   ],
   "source": [
    "file_idx = 6\n",
    "file_names = glob.glob('../Results/*/*.xlsx', recursive=True)\n",
    "file_names"
   ]
  },
  {
   "cell_type": "code",
   "execution_count": 15,
   "metadata": {},
   "outputs": [
    {
     "output_type": "execute_result",
     "data": {
      "text/plain": [
       "              Lobe                          Gyrus Left and Right Hemisphere  \\\n",
       "0    Frontal Lobe   SFG, Superior Frontal Gyrus                SFG_L(R)_7_1   \n",
       "1              NaN                            NaN              SFG_L(R)_7_2   \n",
       "2              NaN                            NaN              SFG_L(R)_7_3   \n",
       "3              NaN                            NaN              SFG_L(R)_7_4   \n",
       "4              NaN                            NaN              SFG_L(R)_7_5   \n",
       "..             ...                            ...                       ...   \n",
       "118            NaN                            NaN              Tha_L(R)_8_4   \n",
       "119            NaN                            NaN              Tha_L(R)_8_5   \n",
       "120            NaN                            NaN              Tha_L(R)_8_6   \n",
       "121            NaN                            NaN              Tha_L(R)_8_7   \n",
       "122            NaN                            NaN              Tha_L(R)_8_8   \n",
       "\n",
       "     Label ID.L  Label ID.R                            Unnamed: 5  \\\n",
       "0             1           2                    A8m, medial area 8   \n",
       "1             3           4             A8dl, dorsolateral area 8   \n",
       "2             5           6                   A9l, lateral area 9   \n",
       "3             7           8             A6dl, dorsolateral area 6   \n",
       "4             9          10                    A6m, medial area 6   \n",
       "..          ...         ...                                   ...   \n",
       "118         237         238      rTtha, rostral temporal thalamus   \n",
       "119         239         240    PPtha, posterior parietal thalamus   \n",
       "120         241         242              Otha, occipital thalamus   \n",
       "121         243         244       cTtha, caudal temporal thalamus   \n",
       "122         245         246  lPFtha, lateral pre-frontal thalamus   \n",
       "\n",
       "     Anatomical and modified Cyto-architectonic descriptions  lh.MNI(X,Y,Z)  \\\n",
       "0                                                  NaN          -5 ,15, 54    \n",
       "1                                                  NaN         -18, 24, 53    \n",
       "2                                                  NaN         -11, 49, 40    \n",
       "3                                                  NaN         -18, -1, 65    \n",
       "4                                                  NaN          -6, -5, 58    \n",
       "..                                                 ...                  ...   \n",
       "118                                                NaN          -7, -14, 7    \n",
       "119                                                NaN         -16, -24, 6    \n",
       "120                                                NaN         -15, -28, 4    \n",
       "121                                                NaN        -12, -22, 13    \n",
       "122                                                NaN         -11, -14, 2    \n",
       "\n",
       "    rh.MNI(X,Y,Z)  \n",
       "0      7, 16, 54   \n",
       "1     22, 26, 51   \n",
       "2     13, 48, 40   \n",
       "3      20, 4, 64   \n",
       "4      7, -4, 60   \n",
       "..            ...  \n",
       "118    3, -13, 5   \n",
       "119   15, -25, 6   \n",
       "120   13, -27, 8   \n",
       "121  10, -14, 14   \n",
       "122   13, -16, 7   \n",
       "\n",
       "[123 rows x 9 columns]"
      ],
      "text/html": "<div>\n<style scoped>\n    .dataframe tbody tr th:only-of-type {\n        vertical-align: middle;\n    }\n\n    .dataframe tbody tr th {\n        vertical-align: top;\n    }\n\n    .dataframe thead th {\n        text-align: right;\n    }\n</style>\n<table border=\"1\" class=\"dataframe\">\n  <thead>\n    <tr style=\"text-align: right;\">\n      <th></th>\n      <th>Lobe</th>\n      <th>Gyrus</th>\n      <th>Left and Right Hemisphere</th>\n      <th>Label ID.L</th>\n      <th>Label ID.R</th>\n      <th>Unnamed: 5</th>\n      <th>Anatomical and modified Cyto-architectonic descriptions</th>\n      <th>lh.MNI(X,Y,Z)</th>\n      <th>rh.MNI(X,Y,Z)</th>\n    </tr>\n  </thead>\n  <tbody>\n    <tr>\n      <th>0</th>\n      <td>Frontal Lobe</td>\n      <td>SFG, Superior Frontal Gyrus</td>\n      <td>SFG_L(R)_7_1</td>\n      <td>1</td>\n      <td>2</td>\n      <td>A8m, medial area 8</td>\n      <td>NaN</td>\n      <td>-5 ,15, 54</td>\n      <td>7, 16, 54</td>\n    </tr>\n    <tr>\n      <th>1</th>\n      <td>NaN</td>\n      <td>NaN</td>\n      <td>SFG_L(R)_7_2</td>\n      <td>3</td>\n      <td>4</td>\n      <td>A8dl, dorsolateral area 8</td>\n      <td>NaN</td>\n      <td>-18, 24, 53</td>\n      <td>22, 26, 51</td>\n    </tr>\n    <tr>\n      <th>2</th>\n      <td>NaN</td>\n      <td>NaN</td>\n      <td>SFG_L(R)_7_3</td>\n      <td>5</td>\n      <td>6</td>\n      <td>A9l, lateral area 9</td>\n      <td>NaN</td>\n      <td>-11, 49, 40</td>\n      <td>13, 48, 40</td>\n    </tr>\n    <tr>\n      <th>3</th>\n      <td>NaN</td>\n      <td>NaN</td>\n      <td>SFG_L(R)_7_4</td>\n      <td>7</td>\n      <td>8</td>\n      <td>A6dl, dorsolateral area 6</td>\n      <td>NaN</td>\n      <td>-18, -1, 65</td>\n      <td>20, 4, 64</td>\n    </tr>\n    <tr>\n      <th>4</th>\n      <td>NaN</td>\n      <td>NaN</td>\n      <td>SFG_L(R)_7_5</td>\n      <td>9</td>\n      <td>10</td>\n      <td>A6m, medial area 6</td>\n      <td>NaN</td>\n      <td>-6, -5, 58</td>\n      <td>7, -4, 60</td>\n    </tr>\n    <tr>\n      <th>...</th>\n      <td>...</td>\n      <td>...</td>\n      <td>...</td>\n      <td>...</td>\n      <td>...</td>\n      <td>...</td>\n      <td>...</td>\n      <td>...</td>\n      <td>...</td>\n    </tr>\n    <tr>\n      <th>118</th>\n      <td>NaN</td>\n      <td>NaN</td>\n      <td>Tha_L(R)_8_4</td>\n      <td>237</td>\n      <td>238</td>\n      <td>rTtha, rostral temporal thalamus</td>\n      <td>NaN</td>\n      <td>-7, -14, 7</td>\n      <td>3, -13, 5</td>\n    </tr>\n    <tr>\n      <th>119</th>\n      <td>NaN</td>\n      <td>NaN</td>\n      <td>Tha_L(R)_8_5</td>\n      <td>239</td>\n      <td>240</td>\n      <td>PPtha, posterior parietal thalamus</td>\n      <td>NaN</td>\n      <td>-16, -24, 6</td>\n      <td>15, -25, 6</td>\n    </tr>\n    <tr>\n      <th>120</th>\n      <td>NaN</td>\n      <td>NaN</td>\n      <td>Tha_L(R)_8_6</td>\n      <td>241</td>\n      <td>242</td>\n      <td>Otha, occipital thalamus</td>\n      <td>NaN</td>\n      <td>-15, -28, 4</td>\n      <td>13, -27, 8</td>\n    </tr>\n    <tr>\n      <th>121</th>\n      <td>NaN</td>\n      <td>NaN</td>\n      <td>Tha_L(R)_8_7</td>\n      <td>243</td>\n      <td>244</td>\n      <td>cTtha, caudal temporal thalamus</td>\n      <td>NaN</td>\n      <td>-12, -22, 13</td>\n      <td>10, -14, 14</td>\n    </tr>\n    <tr>\n      <th>122</th>\n      <td>NaN</td>\n      <td>NaN</td>\n      <td>Tha_L(R)_8_8</td>\n      <td>245</td>\n      <td>246</td>\n      <td>lPFtha, lateral pre-frontal thalamus</td>\n      <td>NaN</td>\n      <td>-11, -14, 2</td>\n      <td>13, -16, 7</td>\n    </tr>\n  </tbody>\n</table>\n<p>123 rows × 9 columns</p>\n</div>"
     },
     "metadata": {},
     "execution_count": 15
    }
   ],
   "source": [
    "df = pd.read_excel('../BNA_subregions.xlsx')\n",
    "df"
   ]
  },
  {
   "cell_type": "code",
   "execution_count": 16,
   "metadata": {},
   "outputs": [
    {
     "output_type": "execute_result",
     "data": {
      "text/plain": [
       "                       unknown (P<0.05, uncorrected): Unnamed: 1 Unnamed: 2  \\\n",
       "0                                             P-value   contrast    T-value   \n",
       "1                                          0.00259125               3.06339   \n",
       "2                                          0.00617724               2.69662   \n",
       "3                                            0.007923               2.58819   \n",
       "4                                           0.0231075               2.09759   \n",
       "5                                           0.0238235               2.08288   \n",
       "6                                            0.033308                1.9179   \n",
       "7                                           0.0343245               1.90277   \n",
       "8                                           0.0428337               1.78944   \n",
       "9                                           0.0463994               1.74765   \n",
       "10                                          0.0495904               1.71251   \n",
       "11  ----------------------------------------------...        NaN        NaN   \n",
       "12                                          0.0240173    inverse   -2.07897   \n",
       "13                                          0.0270931    inverse   -2.02033   \n",
       "14                                          0.0329957    inverse   -1.92263   \n",
       "\n",
       "   Unnamed: 3        Unnamed: 4  Lobe  Gyrus  BA  \n",
       "0    Ze-value  BN_Atlas_246_2mm     0      0   0  \n",
       "1     2.79547             OI090     0      0   0  \n",
       "2     2.50185             OI152     0      0   0  \n",
       "3     2.41244             OI094     0      0   0  \n",
       "4     1.99342             OI002     0      0   0  \n",
       "5      1.9805             OI110     0      0   0  \n",
       "6     1.83426             OI079     0      0   0  \n",
       "7     1.82072             OI071     0      0   0  \n",
       "8     1.71871             OI012     0      0   0  \n",
       "9     1.68082             OI029     0      0   0  \n",
       "10    1.64884             OI176     0      0   0  \n",
       "11        NaN               NaN     0      0   0  \n",
       "12   -1.97706             OI214     0      0   0  \n",
       "13   -1.92535             OI128     0      0   0  \n",
       "14   -1.83848             OI202     0      0   0  "
      ],
      "text/html": "<div>\n<style scoped>\n    .dataframe tbody tr th:only-of-type {\n        vertical-align: middle;\n    }\n\n    .dataframe tbody tr th {\n        vertical-align: top;\n    }\n\n    .dataframe thead th {\n        text-align: right;\n    }\n</style>\n<table border=\"1\" class=\"dataframe\">\n  <thead>\n    <tr style=\"text-align: right;\">\n      <th></th>\n      <th>unknown (P&lt;0.05, uncorrected):</th>\n      <th>Unnamed: 1</th>\n      <th>Unnamed: 2</th>\n      <th>Unnamed: 3</th>\n      <th>Unnamed: 4</th>\n      <th>Lobe</th>\n      <th>Gyrus</th>\n      <th>BA</th>\n    </tr>\n  </thead>\n  <tbody>\n    <tr>\n      <th>0</th>\n      <td>P-value</td>\n      <td>contrast</td>\n      <td>T-value</td>\n      <td>Ze-value</td>\n      <td>BN_Atlas_246_2mm</td>\n      <td>0</td>\n      <td>0</td>\n      <td>0</td>\n    </tr>\n    <tr>\n      <th>1</th>\n      <td>0.00259125</td>\n      <td></td>\n      <td>3.06339</td>\n      <td>2.79547</td>\n      <td>OI090</td>\n      <td>0</td>\n      <td>0</td>\n      <td>0</td>\n    </tr>\n    <tr>\n      <th>2</th>\n      <td>0.00617724</td>\n      <td></td>\n      <td>2.69662</td>\n      <td>2.50185</td>\n      <td>OI152</td>\n      <td>0</td>\n      <td>0</td>\n      <td>0</td>\n    </tr>\n    <tr>\n      <th>3</th>\n      <td>0.007923</td>\n      <td></td>\n      <td>2.58819</td>\n      <td>2.41244</td>\n      <td>OI094</td>\n      <td>0</td>\n      <td>0</td>\n      <td>0</td>\n    </tr>\n    <tr>\n      <th>4</th>\n      <td>0.0231075</td>\n      <td></td>\n      <td>2.09759</td>\n      <td>1.99342</td>\n      <td>OI002</td>\n      <td>0</td>\n      <td>0</td>\n      <td>0</td>\n    </tr>\n    <tr>\n      <th>5</th>\n      <td>0.0238235</td>\n      <td></td>\n      <td>2.08288</td>\n      <td>1.9805</td>\n      <td>OI110</td>\n      <td>0</td>\n      <td>0</td>\n      <td>0</td>\n    </tr>\n    <tr>\n      <th>6</th>\n      <td>0.033308</td>\n      <td></td>\n      <td>1.9179</td>\n      <td>1.83426</td>\n      <td>OI079</td>\n      <td>0</td>\n      <td>0</td>\n      <td>0</td>\n    </tr>\n    <tr>\n      <th>7</th>\n      <td>0.0343245</td>\n      <td></td>\n      <td>1.90277</td>\n      <td>1.82072</td>\n      <td>OI071</td>\n      <td>0</td>\n      <td>0</td>\n      <td>0</td>\n    </tr>\n    <tr>\n      <th>8</th>\n      <td>0.0428337</td>\n      <td></td>\n      <td>1.78944</td>\n      <td>1.71871</td>\n      <td>OI012</td>\n      <td>0</td>\n      <td>0</td>\n      <td>0</td>\n    </tr>\n    <tr>\n      <th>9</th>\n      <td>0.0463994</td>\n      <td></td>\n      <td>1.74765</td>\n      <td>1.68082</td>\n      <td>OI029</td>\n      <td>0</td>\n      <td>0</td>\n      <td>0</td>\n    </tr>\n    <tr>\n      <th>10</th>\n      <td>0.0495904</td>\n      <td></td>\n      <td>1.71251</td>\n      <td>1.64884</td>\n      <td>OI176</td>\n      <td>0</td>\n      <td>0</td>\n      <td>0</td>\n    </tr>\n    <tr>\n      <th>11</th>\n      <td>----------------------------------------------...</td>\n      <td>NaN</td>\n      <td>NaN</td>\n      <td>NaN</td>\n      <td>NaN</td>\n      <td>0</td>\n      <td>0</td>\n      <td>0</td>\n    </tr>\n    <tr>\n      <th>12</th>\n      <td>0.0240173</td>\n      <td>inverse</td>\n      <td>-2.07897</td>\n      <td>-1.97706</td>\n      <td>OI214</td>\n      <td>0</td>\n      <td>0</td>\n      <td>0</td>\n    </tr>\n    <tr>\n      <th>13</th>\n      <td>0.0270931</td>\n      <td>inverse</td>\n      <td>-2.02033</td>\n      <td>-1.92535</td>\n      <td>OI128</td>\n      <td>0</td>\n      <td>0</td>\n      <td>0</td>\n    </tr>\n    <tr>\n      <th>14</th>\n      <td>0.0329957</td>\n      <td>inverse</td>\n      <td>-1.92263</td>\n      <td>-1.83848</td>\n      <td>OI202</td>\n      <td>0</td>\n      <td>0</td>\n      <td>0</td>\n    </tr>\n  </tbody>\n</table>\n</div>"
     },
     "metadata": {},
     "execution_count": 16
    }
   ],
   "source": [
    "df2 = pd.read_excel(file_names[file_idx])\n",
    "df2 = df2.assign(Lobe=0, Gyrus=0, BA=0)\n",
    "df2"
   ]
  },
  {
   "source": [
    "## Data Reshape\n",
    "結合セルの空の部分を埋める"
   ],
   "cell_type": "markdown",
   "metadata": {}
  },
  {
   "cell_type": "code",
   "execution_count": 17,
   "metadata": {},
   "outputs": [
    {
     "output_type": "execute_result",
     "data": {
      "text/plain": [
       "                   Lobe                          Gyrus  \\\n",
       "0         Frontal Lobe   SFG, Superior Frontal Gyrus     \n",
       "1         Frontal Lobe   SFG, Superior Frontal Gyrus     \n",
       "2         Frontal Lobe   SFG, Superior Frontal Gyrus     \n",
       "3         Frontal Lobe   SFG, Superior Frontal Gyrus     \n",
       "4         Frontal Lobe   SFG, Superior Frontal Gyrus     \n",
       "..                  ...                            ...   \n",
       "118  Subcortical Nuclei                  Tha, Thalamus   \n",
       "119  Subcortical Nuclei                  Tha, Thalamus   \n",
       "120  Subcortical Nuclei                  Tha, Thalamus   \n",
       "121  Subcortical Nuclei                  Tha, Thalamus   \n",
       "122  Subcortical Nuclei                  Tha, Thalamus   \n",
       "\n",
       "    Left and Right Hemisphere  Label ID.L  Label ID.R  \\\n",
       "0                SFG_L(R)_7_1           1           2   \n",
       "1                SFG_L(R)_7_2           3           4   \n",
       "2                SFG_L(R)_7_3           5           6   \n",
       "3                SFG_L(R)_7_4           7           8   \n",
       "4                SFG_L(R)_7_5           9          10   \n",
       "..                        ...         ...         ...   \n",
       "118              Tha_L(R)_8_4         237         238   \n",
       "119              Tha_L(R)_8_5         239         240   \n",
       "120              Tha_L(R)_8_6         241         242   \n",
       "121              Tha_L(R)_8_7         243         244   \n",
       "122              Tha_L(R)_8_8         245         246   \n",
       "\n",
       "                                       BA  \\\n",
       "0                      A8m, medial area 8   \n",
       "1               A8dl, dorsolateral area 8   \n",
       "2                     A9l, lateral area 9   \n",
       "3               A6dl, dorsolateral area 6   \n",
       "4                      A6m, medial area 6   \n",
       "..                                    ...   \n",
       "118      rTtha, rostral temporal thalamus   \n",
       "119    PPtha, posterior parietal thalamus   \n",
       "120              Otha, occipital thalamus   \n",
       "121       cTtha, caudal temporal thalamus   \n",
       "122  lPFtha, lateral pre-frontal thalamus   \n",
       "\n",
       "     Anatomical and modified Cyto-architectonic descriptions  lh.MNI(X,Y,Z)  \\\n",
       "0                                                  NaN          -5 ,15, 54    \n",
       "1                                                  NaN         -18, 24, 53    \n",
       "2                                                  NaN         -11, 49, 40    \n",
       "3                                                  NaN         -18, -1, 65    \n",
       "4                                                  NaN          -6, -5, 58    \n",
       "..                                                 ...                  ...   \n",
       "118                                                NaN          -7, -14, 7    \n",
       "119                                                NaN         -16, -24, 6    \n",
       "120                                                NaN         -15, -28, 4    \n",
       "121                                                NaN        -12, -22, 13    \n",
       "122                                                NaN         -11, -14, 2    \n",
       "\n",
       "    rh.MNI(X,Y,Z)  \n",
       "0      7, 16, 54   \n",
       "1     22, 26, 51   \n",
       "2     13, 48, 40   \n",
       "3      20, 4, 64   \n",
       "4      7, -4, 60   \n",
       "..            ...  \n",
       "118    3, -13, 5   \n",
       "119   15, -25, 6   \n",
       "120   13, -27, 8   \n",
       "121  10, -14, 14   \n",
       "122   13, -16, 7   \n",
       "\n",
       "[123 rows x 9 columns]"
      ],
      "text/html": "<div>\n<style scoped>\n    .dataframe tbody tr th:only-of-type {\n        vertical-align: middle;\n    }\n\n    .dataframe tbody tr th {\n        vertical-align: top;\n    }\n\n    .dataframe thead th {\n        text-align: right;\n    }\n</style>\n<table border=\"1\" class=\"dataframe\">\n  <thead>\n    <tr style=\"text-align: right;\">\n      <th></th>\n      <th>Lobe</th>\n      <th>Gyrus</th>\n      <th>Left and Right Hemisphere</th>\n      <th>Label ID.L</th>\n      <th>Label ID.R</th>\n      <th>BA</th>\n      <th>Anatomical and modified Cyto-architectonic descriptions</th>\n      <th>lh.MNI(X,Y,Z)</th>\n      <th>rh.MNI(X,Y,Z)</th>\n    </tr>\n  </thead>\n  <tbody>\n    <tr>\n      <th>0</th>\n      <td>Frontal Lobe</td>\n      <td>SFG, Superior Frontal Gyrus</td>\n      <td>SFG_L(R)_7_1</td>\n      <td>1</td>\n      <td>2</td>\n      <td>A8m, medial area 8</td>\n      <td>NaN</td>\n      <td>-5 ,15, 54</td>\n      <td>7, 16, 54</td>\n    </tr>\n    <tr>\n      <th>1</th>\n      <td>Frontal Lobe</td>\n      <td>SFG, Superior Frontal Gyrus</td>\n      <td>SFG_L(R)_7_2</td>\n      <td>3</td>\n      <td>4</td>\n      <td>A8dl, dorsolateral area 8</td>\n      <td>NaN</td>\n      <td>-18, 24, 53</td>\n      <td>22, 26, 51</td>\n    </tr>\n    <tr>\n      <th>2</th>\n      <td>Frontal Lobe</td>\n      <td>SFG, Superior Frontal Gyrus</td>\n      <td>SFG_L(R)_7_3</td>\n      <td>5</td>\n      <td>6</td>\n      <td>A9l, lateral area 9</td>\n      <td>NaN</td>\n      <td>-11, 49, 40</td>\n      <td>13, 48, 40</td>\n    </tr>\n    <tr>\n      <th>3</th>\n      <td>Frontal Lobe</td>\n      <td>SFG, Superior Frontal Gyrus</td>\n      <td>SFG_L(R)_7_4</td>\n      <td>7</td>\n      <td>8</td>\n      <td>A6dl, dorsolateral area 6</td>\n      <td>NaN</td>\n      <td>-18, -1, 65</td>\n      <td>20, 4, 64</td>\n    </tr>\n    <tr>\n      <th>4</th>\n      <td>Frontal Lobe</td>\n      <td>SFG, Superior Frontal Gyrus</td>\n      <td>SFG_L(R)_7_5</td>\n      <td>9</td>\n      <td>10</td>\n      <td>A6m, medial area 6</td>\n      <td>NaN</td>\n      <td>-6, -5, 58</td>\n      <td>7, -4, 60</td>\n    </tr>\n    <tr>\n      <th>...</th>\n      <td>...</td>\n      <td>...</td>\n      <td>...</td>\n      <td>...</td>\n      <td>...</td>\n      <td>...</td>\n      <td>...</td>\n      <td>...</td>\n      <td>...</td>\n    </tr>\n    <tr>\n      <th>118</th>\n      <td>Subcortical Nuclei</td>\n      <td>Tha, Thalamus</td>\n      <td>Tha_L(R)_8_4</td>\n      <td>237</td>\n      <td>238</td>\n      <td>rTtha, rostral temporal thalamus</td>\n      <td>NaN</td>\n      <td>-7, -14, 7</td>\n      <td>3, -13, 5</td>\n    </tr>\n    <tr>\n      <th>119</th>\n      <td>Subcortical Nuclei</td>\n      <td>Tha, Thalamus</td>\n      <td>Tha_L(R)_8_5</td>\n      <td>239</td>\n      <td>240</td>\n      <td>PPtha, posterior parietal thalamus</td>\n      <td>NaN</td>\n      <td>-16, -24, 6</td>\n      <td>15, -25, 6</td>\n    </tr>\n    <tr>\n      <th>120</th>\n      <td>Subcortical Nuclei</td>\n      <td>Tha, Thalamus</td>\n      <td>Tha_L(R)_8_6</td>\n      <td>241</td>\n      <td>242</td>\n      <td>Otha, occipital thalamus</td>\n      <td>NaN</td>\n      <td>-15, -28, 4</td>\n      <td>13, -27, 8</td>\n    </tr>\n    <tr>\n      <th>121</th>\n      <td>Subcortical Nuclei</td>\n      <td>Tha, Thalamus</td>\n      <td>Tha_L(R)_8_7</td>\n      <td>243</td>\n      <td>244</td>\n      <td>cTtha, caudal temporal thalamus</td>\n      <td>NaN</td>\n      <td>-12, -22, 13</td>\n      <td>10, -14, 14</td>\n    </tr>\n    <tr>\n      <th>122</th>\n      <td>Subcortical Nuclei</td>\n      <td>Tha, Thalamus</td>\n      <td>Tha_L(R)_8_8</td>\n      <td>245</td>\n      <td>246</td>\n      <td>lPFtha, lateral pre-frontal thalamus</td>\n      <td>NaN</td>\n      <td>-11, -14, 2</td>\n      <td>13, -16, 7</td>\n    </tr>\n  </tbody>\n</table>\n<p>123 rows × 9 columns</p>\n</div>"
     },
     "metadata": {},
     "execution_count": 17
    }
   ],
   "source": [
    "df[\"Lobe\"] = pd.Series(df[\"Lobe\"]).fillna(method=\"ffill\")\n",
    "df[\"Gyrus\"] = pd.Series(df[\"Gyrus\"]).fillna(method=\"ffill\")\n",
    "df = df.rename(columns={'Unnamed: 5': 'BA'})\n",
    "df"
   ]
  },
  {
   "source": [
    "## Correspond BN and BA"
   ],
   "cell_type": "markdown",
   "metadata": {}
  },
  {
   "cell_type": "code",
   "execution_count": 18,
   "metadata": {},
   "outputs": [
    {
     "output_type": "execute_result",
     "data": {
      "text/plain": [
       "1     090\n",
       "2     152\n",
       "3     094\n",
       "4     002\n",
       "5     110\n",
       "6     079\n",
       "7     071\n",
       "8     012\n",
       "9     029\n",
       "10    176\n",
       "11    NaN\n",
       "12    214\n",
       "13    128\n",
       "14    202\n",
       "Name: Unnamed: 4, dtype: object"
      ]
     },
     "metadata": {},
     "execution_count": 18
    }
   ],
   "source": [
    "##extract BN ROI number\n",
    "# with inverse...4 witout...3\n",
    "BN_names = df2.iloc[:,4]\n",
    "BN_names = BN_names.drop(BN_names.index[[0]])\n",
    "BN_names\n",
    "BN_nums = BN_names.str[-3:]\n",
    "BN_nums"
   ]
  },
  {
   "cell_type": "code",
   "execution_count": 19,
   "metadata": {},
   "outputs": [
    {
     "output_type": "execute_result",
     "data": {
      "text/plain": [
       "                       unknown (P<0.05, uncorrected): Unnamed: 1 Unnamed: 2  \\\n",
       "0                                             P-value   contrast    T-value   \n",
       "1                                          0.00259125               3.06339   \n",
       "2                                          0.00617724               2.69662   \n",
       "3                                            0.007923               2.58819   \n",
       "4                                           0.0231075               2.09759   \n",
       "5                                           0.0238235               2.08288   \n",
       "6                                            0.033308                1.9179   \n",
       "7                                           0.0343245               1.90277   \n",
       "8                                           0.0428337               1.78944   \n",
       "9                                           0.0463994               1.74765   \n",
       "10                                          0.0495904               1.71251   \n",
       "11  ----------------------------------------------...        NaN        NaN   \n",
       "12                                          0.0240173    inverse   -2.07897   \n",
       "13                                          0.0270931    inverse   -2.02033   \n",
       "14                                          0.0329957    inverse   -1.92263   \n",
       "\n",
       "   Unnamed: 3        Unnamed: 4                Lobe  \\\n",
       "0    Ze-value  BN_Atlas_246_2mm                   0   \n",
       "1     2.79547             OI090       Temporal Lobe   \n",
       "2     2.50185             OI152       Parietal Lobe   \n",
       "3     2.41244             OI094       Temporal Lobe   \n",
       "4     1.99342             OI002       Frontal Lobe    \n",
       "5      1.9805             OI110       Temporal Lobe   \n",
       "6     1.83426             OI079       Temporal Lobe   \n",
       "7     1.82072             OI071       Temporal Lobe   \n",
       "8     1.71871             OI012       Frontal Lobe    \n",
       "9     1.68082             OI029       Frontal Lobe    \n",
       "10    1.64884             OI176         Limbic Lobe   \n",
       "11        NaN               NaN                   0   \n",
       "12   -1.97706             OI214  Subcortical Nuclei   \n",
       "13   -1.92535             OI128       Parietal Lobe   \n",
       "14   -1.83848             OI202      Occipital Lobe   \n",
       "\n",
       "                             Gyrus  \\\n",
       "0                                0   \n",
       "1     ITG, Inferior Temporal Gyrus   \n",
       "2                  Pcun, Precuneus   \n",
       "3     ITG, Inferior Temporal Gyrus   \n",
       "4    SFG, Superior Frontal Gyrus     \n",
       "5       PhG, Parahippocampal Gyrus   \n",
       "6     STG, Superior Temporal Gyrus   \n",
       "7     STG, Superior Temporal Gyrus   \n",
       "8    SFG, Superior Frontal Gyrus     \n",
       "9      IFG, Inferior Frontal Gyrus   \n",
       "10             CG, Cingulate Gyrus   \n",
       "11                               0   \n",
       "12                  Amyg, Amygdala   \n",
       "13   SPL, Superior Parietal Lobule   \n",
       "14  LOcC, lateral Occipital Cortex   \n",
       "\n",
       "                                                   BA  \n",
       "0                                                   0  \n",
       "1                 A20iv, intermediate ventral area 20  \n",
       "2   dmPOS, dorsomedial parietooccipital  sulcus(PEr)   \n",
       "3                               A20r, rostral area 20  \n",
       "4                                  A8m, medial area 8  \n",
       "5                         A35/36r, rostral area 35/36  \n",
       "6                               A22r, rostral area 22  \n",
       "7                                  A41/42, area 41/42  \n",
       "8                                   A9m,medial area 9  \n",
       "9                                 A44d,dorsal area 44  \n",
       "10                               A23d, dorsal area 23  \n",
       "11                                                  0  \n",
       "12                            lAmyg, lateral amygdala  \n",
       "13                                 A7c, caudal area 7  \n",
       "14                                V5/MT+, area V5/MT+  "
      ],
      "text/html": "<div>\n<style scoped>\n    .dataframe tbody tr th:only-of-type {\n        vertical-align: middle;\n    }\n\n    .dataframe tbody tr th {\n        vertical-align: top;\n    }\n\n    .dataframe thead th {\n        text-align: right;\n    }\n</style>\n<table border=\"1\" class=\"dataframe\">\n  <thead>\n    <tr style=\"text-align: right;\">\n      <th></th>\n      <th>unknown (P&lt;0.05, uncorrected):</th>\n      <th>Unnamed: 1</th>\n      <th>Unnamed: 2</th>\n      <th>Unnamed: 3</th>\n      <th>Unnamed: 4</th>\n      <th>Lobe</th>\n      <th>Gyrus</th>\n      <th>BA</th>\n    </tr>\n  </thead>\n  <tbody>\n    <tr>\n      <th>0</th>\n      <td>P-value</td>\n      <td>contrast</td>\n      <td>T-value</td>\n      <td>Ze-value</td>\n      <td>BN_Atlas_246_2mm</td>\n      <td>0</td>\n      <td>0</td>\n      <td>0</td>\n    </tr>\n    <tr>\n      <th>1</th>\n      <td>0.00259125</td>\n      <td></td>\n      <td>3.06339</td>\n      <td>2.79547</td>\n      <td>OI090</td>\n      <td>Temporal Lobe</td>\n      <td>ITG, Inferior Temporal Gyrus</td>\n      <td>A20iv, intermediate ventral area 20</td>\n    </tr>\n    <tr>\n      <th>2</th>\n      <td>0.00617724</td>\n      <td></td>\n      <td>2.69662</td>\n      <td>2.50185</td>\n      <td>OI152</td>\n      <td>Parietal Lobe</td>\n      <td>Pcun, Precuneus</td>\n      <td>dmPOS, dorsomedial parietooccipital  sulcus(PEr)</td>\n    </tr>\n    <tr>\n      <th>3</th>\n      <td>0.007923</td>\n      <td></td>\n      <td>2.58819</td>\n      <td>2.41244</td>\n      <td>OI094</td>\n      <td>Temporal Lobe</td>\n      <td>ITG, Inferior Temporal Gyrus</td>\n      <td>A20r, rostral area 20</td>\n    </tr>\n    <tr>\n      <th>4</th>\n      <td>0.0231075</td>\n      <td></td>\n      <td>2.09759</td>\n      <td>1.99342</td>\n      <td>OI002</td>\n      <td>Frontal Lobe</td>\n      <td>SFG, Superior Frontal Gyrus</td>\n      <td>A8m, medial area 8</td>\n    </tr>\n    <tr>\n      <th>5</th>\n      <td>0.0238235</td>\n      <td></td>\n      <td>2.08288</td>\n      <td>1.9805</td>\n      <td>OI110</td>\n      <td>Temporal Lobe</td>\n      <td>PhG, Parahippocampal Gyrus</td>\n      <td>A35/36r, rostral area 35/36</td>\n    </tr>\n    <tr>\n      <th>6</th>\n      <td>0.033308</td>\n      <td></td>\n      <td>1.9179</td>\n      <td>1.83426</td>\n      <td>OI079</td>\n      <td>Temporal Lobe</td>\n      <td>STG, Superior Temporal Gyrus</td>\n      <td>A22r, rostral area 22</td>\n    </tr>\n    <tr>\n      <th>7</th>\n      <td>0.0343245</td>\n      <td></td>\n      <td>1.90277</td>\n      <td>1.82072</td>\n      <td>OI071</td>\n      <td>Temporal Lobe</td>\n      <td>STG, Superior Temporal Gyrus</td>\n      <td>A41/42, area 41/42</td>\n    </tr>\n    <tr>\n      <th>8</th>\n      <td>0.0428337</td>\n      <td></td>\n      <td>1.78944</td>\n      <td>1.71871</td>\n      <td>OI012</td>\n      <td>Frontal Lobe</td>\n      <td>SFG, Superior Frontal Gyrus</td>\n      <td>A9m,medial area 9</td>\n    </tr>\n    <tr>\n      <th>9</th>\n      <td>0.0463994</td>\n      <td></td>\n      <td>1.74765</td>\n      <td>1.68082</td>\n      <td>OI029</td>\n      <td>Frontal Lobe</td>\n      <td>IFG, Inferior Frontal Gyrus</td>\n      <td>A44d,dorsal area 44</td>\n    </tr>\n    <tr>\n      <th>10</th>\n      <td>0.0495904</td>\n      <td></td>\n      <td>1.71251</td>\n      <td>1.64884</td>\n      <td>OI176</td>\n      <td>Limbic Lobe</td>\n      <td>CG, Cingulate Gyrus</td>\n      <td>A23d, dorsal area 23</td>\n    </tr>\n    <tr>\n      <th>11</th>\n      <td>----------------------------------------------...</td>\n      <td>NaN</td>\n      <td>NaN</td>\n      <td>NaN</td>\n      <td>NaN</td>\n      <td>0</td>\n      <td>0</td>\n      <td>0</td>\n    </tr>\n    <tr>\n      <th>12</th>\n      <td>0.0240173</td>\n      <td>inverse</td>\n      <td>-2.07897</td>\n      <td>-1.97706</td>\n      <td>OI214</td>\n      <td>Subcortical Nuclei</td>\n      <td>Amyg, Amygdala</td>\n      <td>lAmyg, lateral amygdala</td>\n    </tr>\n    <tr>\n      <th>13</th>\n      <td>0.0270931</td>\n      <td>inverse</td>\n      <td>-2.02033</td>\n      <td>-1.92535</td>\n      <td>OI128</td>\n      <td>Parietal Lobe</td>\n      <td>SPL, Superior Parietal Lobule</td>\n      <td>A7c, caudal area 7</td>\n    </tr>\n    <tr>\n      <th>14</th>\n      <td>0.0329957</td>\n      <td>inverse</td>\n      <td>-1.92263</td>\n      <td>-1.83848</td>\n      <td>OI202</td>\n      <td>Occipital Lobe</td>\n      <td>LOcC, lateral Occipital Cortex</td>\n      <td>V5/MT+, area V5/MT+</td>\n    </tr>\n  </tbody>\n</table>\n</div>"
     },
     "metadata": {},
     "execution_count": 19
    }
   ],
   "source": [
    "# correspond BN and BA\n",
    "i = 1\n",
    "for BN_num in BN_nums:\n",
    "    if not pd.isnull(BN_num):\n",
    "        BA_name = df.loc[(df['Label ID.L'] == int(BN_num)) | (df['Label ID.R'] == int(BN_num))]\n",
    "        BA_name = BA_name.loc[:,['Lobe', 'Gyrus', 'BA']]\n",
    "\n",
    "        df2.iloc[i,-3:] = BA_name.iloc[0,:]\n",
    "    i = i+1\n",
    "\n",
    "df2"
   ]
  },
  {
   "source": [
    "## Output Excel"
   ],
   "cell_type": "markdown",
   "metadata": {}
  },
  {
   "cell_type": "code",
   "execution_count": 20,
   "metadata": {},
   "outputs": [],
   "source": [
    "save_dir = '../corresponded'\n",
    "os.makedirs(save_dir, exist_ok=True)\n",
    "\n",
    "tmp = pd.ExcelFile(file_names[file_idx])\n",
    "\n",
    "df2.to_excel(save_dir+'/c'+file_names[file_idx].split('/')[-1], sheet_name=tmp.sheet_names[0])"
   ]
  },
  {
   "cell_type": "code",
   "execution_count": 21,
   "metadata": {},
   "outputs": [
    {
     "output_type": "execute_result",
     "data": {
      "text/plain": [
       "['Sheet1']"
      ]
     },
     "metadata": {},
     "execution_count": 21
    }
   ],
   "source": [
    "tmp.sheet_names"
   ]
  },
  {
   "cell_type": "code",
   "execution_count": null,
   "metadata": {},
   "outputs": [],
   "source": []
  }
 ]
}