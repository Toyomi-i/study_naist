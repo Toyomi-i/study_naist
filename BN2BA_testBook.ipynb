{
 "metadata": {
  "language_info": {
   "codemirror_mode": {
    "name": "ipython",
    "version": 3
   },
   "file_extension": ".py",
   "mimetype": "text/x-python",
   "name": "python",
   "nbconvert_exporter": "python",
   "pygments_lexer": "ipython3",
   "version": "3.8.5"
  },
  "orig_nbformat": 2,
  "kernelspec": {
   "name": "python385jvsc74a57bd05518ef21977f2f7cfbc2af1de56ff3c1849cd3f20e332759f644f321a7cde6de",
   "display_name": "Python 3.8.5 64-bit ('3.8.5')"
  }
 },
 "nbformat": 4,
 "nbformat_minor": 2,
 "cells": [
  {
   "cell_type": "code",
   "execution_count": 124,
   "metadata": {},
   "outputs": [],
   "source": [
    "import pandas as pd\n",
    "import openpyxl\n",
    "import glob\n",
    "\n",
    "from openpyxl.utils import range_boundaries"
   ]
  },
  {
   "source": [
    "## Data Input"
   ],
   "cell_type": "markdown",
   "metadata": {}
  },
  {
   "cell_type": "code",
   "execution_count": 19,
   "metadata": {},
   "outputs": [
    {
     "output_type": "execute_result",
     "data": {
      "text/plain": [
       "['../Results/BN_MR_A_M_T_G/BN_MR_Ag_Mr_Ti_Ge.xlsx',\n",
       " '../Results/BN_MR_A_M_S_T_G/BN_MR_Ag_Mr_Sb_Ti_Ge.xlsx',\n",
       " '../Results/BN_MR_A_S_T_G/BN_MR_Ag_Sb_Ti_Ge.xlsx']"
      ]
     },
     "metadata": {},
     "execution_count": 19
    }
   ],
   "source": [
    "file_names = glob.glob('../Results/*/*.xlsx', recursive=True)\n",
    "file_names"
   ]
  },
  {
   "cell_type": "code",
   "execution_count": 119,
   "metadata": {},
   "outputs": [
    {
     "output_type": "execute_result",
     "data": {
      "text/plain": [
       "              Lobe                          Gyrus Left and Right Hemisphere  \\\n",
       "0    Frontal Lobe   SFG, Superior Frontal Gyrus                SFG_L(R)_7_1   \n",
       "1              NaN                            NaN              SFG_L(R)_7_2   \n",
       "2              NaN                            NaN              SFG_L(R)_7_3   \n",
       "3              NaN                            NaN              SFG_L(R)_7_4   \n",
       "4              NaN                            NaN              SFG_L(R)_7_5   \n",
       "..             ...                            ...                       ...   \n",
       "118            NaN                            NaN              Tha_L(R)_8_4   \n",
       "119            NaN                            NaN              Tha_L(R)_8_5   \n",
       "120            NaN                            NaN              Tha_L(R)_8_6   \n",
       "121            NaN                            NaN              Tha_L(R)_8_7   \n",
       "122            NaN                            NaN              Tha_L(R)_8_8   \n",
       "\n",
       "     Label ID.L  Label ID.R                            Unnamed: 5  \\\n",
       "0             1           2                    A8m, medial area 8   \n",
       "1             3           4             A8dl, dorsolateral area 8   \n",
       "2             5           6                   A9l, lateral area 9   \n",
       "3             7           8             A6dl, dorsolateral area 6   \n",
       "4             9          10                    A6m, medial area 6   \n",
       "..          ...         ...                                   ...   \n",
       "118         237         238      rTtha, rostral temporal thalamus   \n",
       "119         239         240    PPtha, posterior parietal thalamus   \n",
       "120         241         242              Otha, occipital thalamus   \n",
       "121         243         244       cTtha, caudal temporal thalamus   \n",
       "122         245         246  lPFtha, lateral pre-frontal thalamus   \n",
       "\n",
       "     Anatomical and modified Cyto-architectonic descriptions  lh.MNI(X,Y,Z)  \\\n",
       "0                                                  NaN          -5 ,15, 54    \n",
       "1                                                  NaN         -18, 24, 53    \n",
       "2                                                  NaN         -11, 49, 40    \n",
       "3                                                  NaN         -18, -1, 65    \n",
       "4                                                  NaN          -6, -5, 58    \n",
       "..                                                 ...                  ...   \n",
       "118                                                NaN          -7, -14, 7    \n",
       "119                                                NaN         -16, -24, 6    \n",
       "120                                                NaN         -15, -28, 4    \n",
       "121                                                NaN        -12, -22, 13    \n",
       "122                                                NaN         -11, -14, 2    \n",
       "\n",
       "    rh.MNI(X,Y,Z)  \n",
       "0      7, 16, 54   \n",
       "1     22, 26, 51   \n",
       "2     13, 48, 40   \n",
       "3      20, 4, 64   \n",
       "4      7, -4, 60   \n",
       "..            ...  \n",
       "118    3, -13, 5   \n",
       "119   15, -25, 6   \n",
       "120   13, -27, 8   \n",
       "121  10, -14, 14   \n",
       "122   13, -16, 7   \n",
       "\n",
       "[123 rows x 9 columns]"
      ],
      "text/html": "<div>\n<style scoped>\n    .dataframe tbody tr th:only-of-type {\n        vertical-align: middle;\n    }\n\n    .dataframe tbody tr th {\n        vertical-align: top;\n    }\n\n    .dataframe thead th {\n        text-align: right;\n    }\n</style>\n<table border=\"1\" class=\"dataframe\">\n  <thead>\n    <tr style=\"text-align: right;\">\n      <th></th>\n      <th>Lobe</th>\n      <th>Gyrus</th>\n      <th>Left and Right Hemisphere</th>\n      <th>Label ID.L</th>\n      <th>Label ID.R</th>\n      <th>Unnamed: 5</th>\n      <th>Anatomical and modified Cyto-architectonic descriptions</th>\n      <th>lh.MNI(X,Y,Z)</th>\n      <th>rh.MNI(X,Y,Z)</th>\n    </tr>\n  </thead>\n  <tbody>\n    <tr>\n      <th>0</th>\n      <td>Frontal Lobe</td>\n      <td>SFG, Superior Frontal Gyrus</td>\n      <td>SFG_L(R)_7_1</td>\n      <td>1</td>\n      <td>2</td>\n      <td>A8m, medial area 8</td>\n      <td>NaN</td>\n      <td>-5 ,15, 54</td>\n      <td>7, 16, 54</td>\n    </tr>\n    <tr>\n      <th>1</th>\n      <td>NaN</td>\n      <td>NaN</td>\n      <td>SFG_L(R)_7_2</td>\n      <td>3</td>\n      <td>4</td>\n      <td>A8dl, dorsolateral area 8</td>\n      <td>NaN</td>\n      <td>-18, 24, 53</td>\n      <td>22, 26, 51</td>\n    </tr>\n    <tr>\n      <th>2</th>\n      <td>NaN</td>\n      <td>NaN</td>\n      <td>SFG_L(R)_7_3</td>\n      <td>5</td>\n      <td>6</td>\n      <td>A9l, lateral area 9</td>\n      <td>NaN</td>\n      <td>-11, 49, 40</td>\n      <td>13, 48, 40</td>\n    </tr>\n    <tr>\n      <th>3</th>\n      <td>NaN</td>\n      <td>NaN</td>\n      <td>SFG_L(R)_7_4</td>\n      <td>7</td>\n      <td>8</td>\n      <td>A6dl, dorsolateral area 6</td>\n      <td>NaN</td>\n      <td>-18, -1, 65</td>\n      <td>20, 4, 64</td>\n    </tr>\n    <tr>\n      <th>4</th>\n      <td>NaN</td>\n      <td>NaN</td>\n      <td>SFG_L(R)_7_5</td>\n      <td>9</td>\n      <td>10</td>\n      <td>A6m, medial area 6</td>\n      <td>NaN</td>\n      <td>-6, -5, 58</td>\n      <td>7, -4, 60</td>\n    </tr>\n    <tr>\n      <th>...</th>\n      <td>...</td>\n      <td>...</td>\n      <td>...</td>\n      <td>...</td>\n      <td>...</td>\n      <td>...</td>\n      <td>...</td>\n      <td>...</td>\n      <td>...</td>\n    </tr>\n    <tr>\n      <th>118</th>\n      <td>NaN</td>\n      <td>NaN</td>\n      <td>Tha_L(R)_8_4</td>\n      <td>237</td>\n      <td>238</td>\n      <td>rTtha, rostral temporal thalamus</td>\n      <td>NaN</td>\n      <td>-7, -14, 7</td>\n      <td>3, -13, 5</td>\n    </tr>\n    <tr>\n      <th>119</th>\n      <td>NaN</td>\n      <td>NaN</td>\n      <td>Tha_L(R)_8_5</td>\n      <td>239</td>\n      <td>240</td>\n      <td>PPtha, posterior parietal thalamus</td>\n      <td>NaN</td>\n      <td>-16, -24, 6</td>\n      <td>15, -25, 6</td>\n    </tr>\n    <tr>\n      <th>120</th>\n      <td>NaN</td>\n      <td>NaN</td>\n      <td>Tha_L(R)_8_6</td>\n      <td>241</td>\n      <td>242</td>\n      <td>Otha, occipital thalamus</td>\n      <td>NaN</td>\n      <td>-15, -28, 4</td>\n      <td>13, -27, 8</td>\n    </tr>\n    <tr>\n      <th>121</th>\n      <td>NaN</td>\n      <td>NaN</td>\n      <td>Tha_L(R)_8_7</td>\n      <td>243</td>\n      <td>244</td>\n      <td>cTtha, caudal temporal thalamus</td>\n      <td>NaN</td>\n      <td>-12, -22, 13</td>\n      <td>10, -14, 14</td>\n    </tr>\n    <tr>\n      <th>122</th>\n      <td>NaN</td>\n      <td>NaN</td>\n      <td>Tha_L(R)_8_8</td>\n      <td>245</td>\n      <td>246</td>\n      <td>lPFtha, lateral pre-frontal thalamus</td>\n      <td>NaN</td>\n      <td>-11, -14, 2</td>\n      <td>13, -16, 7</td>\n    </tr>\n  </tbody>\n</table>\n<p>123 rows × 9 columns</p>\n</div>"
     },
     "metadata": {},
     "execution_count": 119
    }
   ],
   "source": [
    "df = pd.read_excel('../BNA_subregions.xlsx')\n",
    "df"
   ]
  },
  {
   "cell_type": "code",
   "execution_count": 126,
   "metadata": {},
   "outputs": [
    {
     "output_type": "execute_result",
     "data": {
      "text/plain": [
       "   unknown (P<0.05, uncorrected): Unnamed: 1 Unnamed: 2        Unnamed: 3\n",
       "0                         P-value    T-value   Ze-value  BN_Atlas_246_2mm\n",
       "1                      0.00370932    2.91389    2.67744             OI110\n",
       "2                      0.00509464    2.77943    2.56934             OI090\n",
       "3                      0.00618133    2.69633    2.50162             OI002\n",
       "4                      0.00845613    2.55953    2.38861             OI125\n",
       "5                      0.00932015    2.51646    2.35265             OI012\n",
       "6                      0.00954551    2.50584    2.34375             OI079\n",
       "7                       0.0130413    2.36531    2.22498             OI133\n",
       "8                       0.0150014    2.30109    2.17005             OI037\n",
       "9                       0.0174267    2.23146    2.11006             OI173\n",
       "10                        0.01746    2.23056    2.10928             OI152\n",
       "11                      0.0220463    2.12016    2.01321             OI126\n",
       "12                      0.0278498    2.00681    1.91338             OI094\n",
       "13                      0.0311562     1.9513    1.86407             OI171\n",
       "14                      0.0319975    1.93801    1.85221             OI228\n",
       "15                      0.0336046    1.91344    1.83027             OI167\n",
       "16                      0.0388643    1.83962    1.76402             OI083\n",
       "17                      0.0394458      1.832    1.75715             OI073\n",
       "18                      0.0408712    1.81372    1.74066             OI172\n",
       "19                      0.0411263    1.81051    1.73776             OI132\n",
       "20                      0.0417243    1.80305    1.73102             OI038\n",
       "21                      0.0428084    1.78974    1.71899             OI104\n",
       "22                      0.0489412     1.7195    1.65521             OI168"
      ],
      "text/html": "<div>\n<style scoped>\n    .dataframe tbody tr th:only-of-type {\n        vertical-align: middle;\n    }\n\n    .dataframe tbody tr th {\n        vertical-align: top;\n    }\n\n    .dataframe thead th {\n        text-align: right;\n    }\n</style>\n<table border=\"1\" class=\"dataframe\">\n  <thead>\n    <tr style=\"text-align: right;\">\n      <th></th>\n      <th>unknown (P&lt;0.05, uncorrected):</th>\n      <th>Unnamed: 1</th>\n      <th>Unnamed: 2</th>\n      <th>Unnamed: 3</th>\n    </tr>\n  </thead>\n  <tbody>\n    <tr>\n      <th>0</th>\n      <td>P-value</td>\n      <td>T-value</td>\n      <td>Ze-value</td>\n      <td>BN_Atlas_246_2mm</td>\n    </tr>\n    <tr>\n      <th>1</th>\n      <td>0.00370932</td>\n      <td>2.91389</td>\n      <td>2.67744</td>\n      <td>OI110</td>\n    </tr>\n    <tr>\n      <th>2</th>\n      <td>0.00509464</td>\n      <td>2.77943</td>\n      <td>2.56934</td>\n      <td>OI090</td>\n    </tr>\n    <tr>\n      <th>3</th>\n      <td>0.00618133</td>\n      <td>2.69633</td>\n      <td>2.50162</td>\n      <td>OI002</td>\n    </tr>\n    <tr>\n      <th>4</th>\n      <td>0.00845613</td>\n      <td>2.55953</td>\n      <td>2.38861</td>\n      <td>OI125</td>\n    </tr>\n    <tr>\n      <th>5</th>\n      <td>0.00932015</td>\n      <td>2.51646</td>\n      <td>2.35265</td>\n      <td>OI012</td>\n    </tr>\n    <tr>\n      <th>6</th>\n      <td>0.00954551</td>\n      <td>2.50584</td>\n      <td>2.34375</td>\n      <td>OI079</td>\n    </tr>\n    <tr>\n      <th>7</th>\n      <td>0.0130413</td>\n      <td>2.36531</td>\n      <td>2.22498</td>\n      <td>OI133</td>\n    </tr>\n    <tr>\n      <th>8</th>\n      <td>0.0150014</td>\n      <td>2.30109</td>\n      <td>2.17005</td>\n      <td>OI037</td>\n    </tr>\n    <tr>\n      <th>9</th>\n      <td>0.0174267</td>\n      <td>2.23146</td>\n      <td>2.11006</td>\n      <td>OI173</td>\n    </tr>\n    <tr>\n      <th>10</th>\n      <td>0.01746</td>\n      <td>2.23056</td>\n      <td>2.10928</td>\n      <td>OI152</td>\n    </tr>\n    <tr>\n      <th>11</th>\n      <td>0.0220463</td>\n      <td>2.12016</td>\n      <td>2.01321</td>\n      <td>OI126</td>\n    </tr>\n    <tr>\n      <th>12</th>\n      <td>0.0278498</td>\n      <td>2.00681</td>\n      <td>1.91338</td>\n      <td>OI094</td>\n    </tr>\n    <tr>\n      <th>13</th>\n      <td>0.0311562</td>\n      <td>1.9513</td>\n      <td>1.86407</td>\n      <td>OI171</td>\n    </tr>\n    <tr>\n      <th>14</th>\n      <td>0.0319975</td>\n      <td>1.93801</td>\n      <td>1.85221</td>\n      <td>OI228</td>\n    </tr>\n    <tr>\n      <th>15</th>\n      <td>0.0336046</td>\n      <td>1.91344</td>\n      <td>1.83027</td>\n      <td>OI167</td>\n    </tr>\n    <tr>\n      <th>16</th>\n      <td>0.0388643</td>\n      <td>1.83962</td>\n      <td>1.76402</td>\n      <td>OI083</td>\n    </tr>\n    <tr>\n      <th>17</th>\n      <td>0.0394458</td>\n      <td>1.832</td>\n      <td>1.75715</td>\n      <td>OI073</td>\n    </tr>\n    <tr>\n      <th>18</th>\n      <td>0.0408712</td>\n      <td>1.81372</td>\n      <td>1.74066</td>\n      <td>OI172</td>\n    </tr>\n    <tr>\n      <th>19</th>\n      <td>0.0411263</td>\n      <td>1.81051</td>\n      <td>1.73776</td>\n      <td>OI132</td>\n    </tr>\n    <tr>\n      <th>20</th>\n      <td>0.0417243</td>\n      <td>1.80305</td>\n      <td>1.73102</td>\n      <td>OI038</td>\n    </tr>\n    <tr>\n      <th>21</th>\n      <td>0.0428084</td>\n      <td>1.78974</td>\n      <td>1.71899</td>\n      <td>OI104</td>\n    </tr>\n    <tr>\n      <th>22</th>\n      <td>0.0489412</td>\n      <td>1.7195</td>\n      <td>1.65521</td>\n      <td>OI168</td>\n    </tr>\n  </tbody>\n</table>\n</div>"
     },
     "metadata": {},
     "execution_count": 126
    }
   ],
   "source": [
    "df2 = pd.read_excel(file_names[0])\n",
    "df2"
   ]
  },
  {
   "source": [
    "## Data Reshape\n",
    "結合セルの空の部分を埋める"
   ],
   "cell_type": "markdown",
   "metadata": {}
  },
  {
   "cell_type": "code",
   "execution_count": 116,
   "metadata": {},
   "outputs": [
    {
     "output_type": "execute_result",
     "data": {
      "text/plain": [
       "                   Lobe                          Gyrus  \\\n",
       "0         Frontal Lobe   SFG, Superior Frontal Gyrus     \n",
       "1         Frontal Lobe   SFG, Superior Frontal Gyrus     \n",
       "2         Frontal Lobe   SFG, Superior Frontal Gyrus     \n",
       "3         Frontal Lobe   SFG, Superior Frontal Gyrus     \n",
       "4         Frontal Lobe   SFG, Superior Frontal Gyrus     \n",
       "..                  ...                            ...   \n",
       "118  Subcortical Nuclei                  Tha, Thalamus   \n",
       "119  Subcortical Nuclei                  Tha, Thalamus   \n",
       "120  Subcortical Nuclei                  Tha, Thalamus   \n",
       "121  Subcortical Nuclei                  Tha, Thalamus   \n",
       "122  Subcortical Nuclei                  Tha, Thalamus   \n",
       "\n",
       "    Left and Right Hemisphere  Label ID.L  Label ID.R  \\\n",
       "0                SFG_L(R)_7_1           1           2   \n",
       "1                SFG_L(R)_7_2           3           4   \n",
       "2                SFG_L(R)_7_3           5           6   \n",
       "3                SFG_L(R)_7_4           7           8   \n",
       "4                SFG_L(R)_7_5           9          10   \n",
       "..                        ...         ...         ...   \n",
       "118              Tha_L(R)_8_4         237         238   \n",
       "119              Tha_L(R)_8_5         239         240   \n",
       "120              Tha_L(R)_8_6         241         242   \n",
       "121              Tha_L(R)_8_7         243         244   \n",
       "122              Tha_L(R)_8_8         245         246   \n",
       "\n",
       "                               Unnamed: 5  \\\n",
       "0                      A8m, medial area 8   \n",
       "1               A8dl, dorsolateral area 8   \n",
       "2                     A9l, lateral area 9   \n",
       "3               A6dl, dorsolateral area 6   \n",
       "4                      A6m, medial area 6   \n",
       "..                                    ...   \n",
       "118      rTtha, rostral temporal thalamus   \n",
       "119    PPtha, posterior parietal thalamus   \n",
       "120              Otha, occipital thalamus   \n",
       "121       cTtha, caudal temporal thalamus   \n",
       "122  lPFtha, lateral pre-frontal thalamus   \n",
       "\n",
       "     Anatomical and modified Cyto-architectonic descriptions  lh.MNI(X,Y,Z)  \\\n",
       "0                                                  NaN          -5 ,15, 54    \n",
       "1                                                  NaN         -18, 24, 53    \n",
       "2                                                  NaN         -11, 49, 40    \n",
       "3                                                  NaN         -18, -1, 65    \n",
       "4                                                  NaN          -6, -5, 58    \n",
       "..                                                 ...                  ...   \n",
       "118                                                NaN          -7, -14, 7    \n",
       "119                                                NaN         -16, -24, 6    \n",
       "120                                                NaN         -15, -28, 4    \n",
       "121                                                NaN        -12, -22, 13    \n",
       "122                                                NaN         -11, -14, 2    \n",
       "\n",
       "    rh.MNI(X,Y,Z)  \n",
       "0      7, 16, 54   \n",
       "1     22, 26, 51   \n",
       "2     13, 48, 40   \n",
       "3      20, 4, 64   \n",
       "4      7, -4, 60   \n",
       "..            ...  \n",
       "118    3, -13, 5   \n",
       "119   15, -25, 6   \n",
       "120   13, -27, 8   \n",
       "121  10, -14, 14   \n",
       "122   13, -16, 7   \n",
       "\n",
       "[123 rows x 9 columns]"
      ],
      "text/html": "<div>\n<style scoped>\n    .dataframe tbody tr th:only-of-type {\n        vertical-align: middle;\n    }\n\n    .dataframe tbody tr th {\n        vertical-align: top;\n    }\n\n    .dataframe thead th {\n        text-align: right;\n    }\n</style>\n<table border=\"1\" class=\"dataframe\">\n  <thead>\n    <tr style=\"text-align: right;\">\n      <th></th>\n      <th>Lobe</th>\n      <th>Gyrus</th>\n      <th>Left and Right Hemisphere</th>\n      <th>Label ID.L</th>\n      <th>Label ID.R</th>\n      <th>Unnamed: 5</th>\n      <th>Anatomical and modified Cyto-architectonic descriptions</th>\n      <th>lh.MNI(X,Y,Z)</th>\n      <th>rh.MNI(X,Y,Z)</th>\n    </tr>\n  </thead>\n  <tbody>\n    <tr>\n      <th>0</th>\n      <td>Frontal Lobe</td>\n      <td>SFG, Superior Frontal Gyrus</td>\n      <td>SFG_L(R)_7_1</td>\n      <td>1</td>\n      <td>2</td>\n      <td>A8m, medial area 8</td>\n      <td>NaN</td>\n      <td>-5 ,15, 54</td>\n      <td>7, 16, 54</td>\n    </tr>\n    <tr>\n      <th>1</th>\n      <td>Frontal Lobe</td>\n      <td>SFG, Superior Frontal Gyrus</td>\n      <td>SFG_L(R)_7_2</td>\n      <td>3</td>\n      <td>4</td>\n      <td>A8dl, dorsolateral area 8</td>\n      <td>NaN</td>\n      <td>-18, 24, 53</td>\n      <td>22, 26, 51</td>\n    </tr>\n    <tr>\n      <th>2</th>\n      <td>Frontal Lobe</td>\n      <td>SFG, Superior Frontal Gyrus</td>\n      <td>SFG_L(R)_7_3</td>\n      <td>5</td>\n      <td>6</td>\n      <td>A9l, lateral area 9</td>\n      <td>NaN</td>\n      <td>-11, 49, 40</td>\n      <td>13, 48, 40</td>\n    </tr>\n    <tr>\n      <th>3</th>\n      <td>Frontal Lobe</td>\n      <td>SFG, Superior Frontal Gyrus</td>\n      <td>SFG_L(R)_7_4</td>\n      <td>7</td>\n      <td>8</td>\n      <td>A6dl, dorsolateral area 6</td>\n      <td>NaN</td>\n      <td>-18, -1, 65</td>\n      <td>20, 4, 64</td>\n    </tr>\n    <tr>\n      <th>4</th>\n      <td>Frontal Lobe</td>\n      <td>SFG, Superior Frontal Gyrus</td>\n      <td>SFG_L(R)_7_5</td>\n      <td>9</td>\n      <td>10</td>\n      <td>A6m, medial area 6</td>\n      <td>NaN</td>\n      <td>-6, -5, 58</td>\n      <td>7, -4, 60</td>\n    </tr>\n    <tr>\n      <th>...</th>\n      <td>...</td>\n      <td>...</td>\n      <td>...</td>\n      <td>...</td>\n      <td>...</td>\n      <td>...</td>\n      <td>...</td>\n      <td>...</td>\n      <td>...</td>\n    </tr>\n    <tr>\n      <th>118</th>\n      <td>Subcortical Nuclei</td>\n      <td>Tha, Thalamus</td>\n      <td>Tha_L(R)_8_4</td>\n      <td>237</td>\n      <td>238</td>\n      <td>rTtha, rostral temporal thalamus</td>\n      <td>NaN</td>\n      <td>-7, -14, 7</td>\n      <td>3, -13, 5</td>\n    </tr>\n    <tr>\n      <th>119</th>\n      <td>Subcortical Nuclei</td>\n      <td>Tha, Thalamus</td>\n      <td>Tha_L(R)_8_5</td>\n      <td>239</td>\n      <td>240</td>\n      <td>PPtha, posterior parietal thalamus</td>\n      <td>NaN</td>\n      <td>-16, -24, 6</td>\n      <td>15, -25, 6</td>\n    </tr>\n    <tr>\n      <th>120</th>\n      <td>Subcortical Nuclei</td>\n      <td>Tha, Thalamus</td>\n      <td>Tha_L(R)_8_6</td>\n      <td>241</td>\n      <td>242</td>\n      <td>Otha, occipital thalamus</td>\n      <td>NaN</td>\n      <td>-15, -28, 4</td>\n      <td>13, -27, 8</td>\n    </tr>\n    <tr>\n      <th>121</th>\n      <td>Subcortical Nuclei</td>\n      <td>Tha, Thalamus</td>\n      <td>Tha_L(R)_8_7</td>\n      <td>243</td>\n      <td>244</td>\n      <td>cTtha, caudal temporal thalamus</td>\n      <td>NaN</td>\n      <td>-12, -22, 13</td>\n      <td>10, -14, 14</td>\n    </tr>\n    <tr>\n      <th>122</th>\n      <td>Subcortical Nuclei</td>\n      <td>Tha, Thalamus</td>\n      <td>Tha_L(R)_8_8</td>\n      <td>245</td>\n      <td>246</td>\n      <td>lPFtha, lateral pre-frontal thalamus</td>\n      <td>NaN</td>\n      <td>-11, -14, 2</td>\n      <td>13, -16, 7</td>\n    </tr>\n  </tbody>\n</table>\n<p>123 rows × 9 columns</p>\n</div>"
     },
     "metadata": {},
     "execution_count": 116
    }
   ],
   "source": [
    "df[\"Lobe\"] = pd.Series(df[\"Lobe\"]).fillna(method=\"ffill\")\n",
    "df[\"Gyrus\"] = pd.Series(df[\"Gyrus\"]).fillna(method=\"ffill\")\n",
    "df"
   ]
  },
  {
   "source": [
    "## Correspond BN and BA"
   ],
   "cell_type": "markdown",
   "metadata": {}
  },
  {
   "cell_type": "code",
   "execution_count": 132,
   "metadata": {},
   "outputs": [
    {
     "output_type": "execute_result",
     "data": {
      "text/plain": [
       "1     110\n",
       "2     090\n",
       "3     002\n",
       "4     125\n",
       "5     012\n",
       "6     079\n",
       "7     133\n",
       "8     037\n",
       "9     173\n",
       "10    152\n",
       "11    126\n",
       "12    094\n",
       "13    171\n",
       "14    228\n",
       "15    167\n",
       "16    083\n",
       "17    073\n",
       "18    172\n",
       "19    132\n",
       "20    038\n",
       "21    104\n",
       "22    168\n",
       "Name: Unnamed: 3, dtype: object"
      ]
     },
     "metadata": {},
     "execution_count": 132
    }
   ],
   "source": [
    "##extract BN ROI number\n",
    "BN_names = df2.iloc[:,3]\n",
    "BN_names = BN_names.drop(BN_names.index[[0]])\n",
    "\n",
    "BN_nums = BN_names.str[-3:]\n",
    "BN_nums"
   ]
  },
  {
   "cell_type": "code",
   "execution_count": null,
   "metadata": {},
   "outputs": [],
   "source": []
  }
 ]
}